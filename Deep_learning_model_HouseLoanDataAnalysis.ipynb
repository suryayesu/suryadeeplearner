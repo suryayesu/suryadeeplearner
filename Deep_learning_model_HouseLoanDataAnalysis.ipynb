{
  "cells": [
    {
      "cell_type": "markdown",
      "metadata": {
        "id": "view-in-github",
        "colab_type": "text"
      },
      "source": [
        "<a href=\"https://colab.research.google.com/github/suryayesu/suryayesu/blob/main/Deep_learning_model_HouseLoanDataAnalysis.ipynb\" target=\"_parent\"><img src=\"https://colab.research.google.com/assets/colab-badge.svg\" alt=\"Open In Colab\"/></a>"
      ]
    },
    {
      "cell_type": "markdown",
      "metadata": {
        "id": "IQC_LSFvjoEy"
      },
      "source": [
        "DESCRIPTION\n",
        "\n",
        "For safe and secure lending experience, it's important to analyze the past data. In this project, you have to build a deep learning model to predict the chance of default for future loans using the historical data. As you will see, this dataset is highly imbalanced and includes a lot of features that make this problem more challenging.\n",
        "\n",
        "Objective: Create a model that predicts whether or not an applicant will be able to repay a loan using historical data.\n",
        "\n",
        "Domain: Finance\n",
        "\n",
        "Analysis to be done: Perform data preprocessing and build a deep learning prediction model.\n",
        "\n",
        "Steps to be done: \n",
        "\n",
        "⦁    Load the dataset that is given to you\n",
        "⦁    Check for null values in the dataset\n",
        "⦁    Print percentage of default to payer of the dataset for the TARGET column\n",
        "⦁    Balance the dataset if the data is imbalanced\n",
        "⦁    Plot the balanced data or imbalanced data\n",
        "⦁    Encode the columns that is required for the model\n",
        "⦁    Calculate Sensitivity as a metrice\n",
        "⦁    Calculate area under receiver operating characteristics curve\n"
      ]
    },
    {
      "cell_type": "code",
      "source": [
        "%tensorflow_version 2.x\n",
        "import tensorflow as tf\n",
        "device_name = tf.test.gpu_device_name()\n",
        "if device_name != '/device:GPU:0':\n",
        "  raise SystemError('GPU device not found')\n",
        "print('Found GPU at: {}'.format(device_name))"
      ],
      "metadata": {
        "colab": {
          "base_uri": "https://localhost:8080/",
          "height": 0
        },
        "id": "NslC6b7lDeks",
        "outputId": "0016c1f3-383b-46b4-c6f1-1dac0c29346c"
      },
      "execution_count": 3,
      "outputs": [
        {
          "output_type": "stream",
          "name": "stdout",
          "text": [
            "Found GPU at: /device:GPU:0\n"
          ]
        }
      ]
    },
    {
      "cell_type": "code",
      "execution_count": 4,
      "metadata": {
        "id": "x9vTdl6RjoFB"
      },
      "outputs": [],
      "source": [
        "import numpy as np\n",
        "import pandas as pd\n",
        "import matplotlib.pyplot as plt\n",
        "\n",
        "import tensorflow as tf"
      ]
    },
    {
      "cell_type": "code",
      "source": [
        "from google.colab import drive\n",
        "drive.mount('/content/drive')"
      ],
      "metadata": {
        "colab": {
          "base_uri": "https://localhost:8080/",
          "height": 0
        },
        "id": "Bh1ZzYPxWdz2",
        "outputId": "e04c67cf-d191-4fb8-85d1-261b6c2c5182"
      },
      "execution_count": 5,
      "outputs": [
        {
          "output_type": "stream",
          "name": "stdout",
          "text": [
            "Mounted at /content/drive\n"
          ]
        }
      ]
    },
    {
      "cell_type": "code",
      "source": [
        "!unzip gdrive/My\\ Drive/file/loan_data.rar /content/drive/MyDrive/loan_data.rar"
      ],
      "metadata": {
        "colab": {
          "base_uri": "https://localhost:8080/",
          "height": 0
        },
        "id": "7YY2JUyJYwKn",
        "outputId": "384c1de4-5e5c-4863-e36c-5aa6bc662943"
      },
      "execution_count": 6,
      "outputs": [
        {
          "output_type": "stream",
          "name": "stdout",
          "text": [
            "unzip:  cannot find or open gdrive/My Drive/file/loan_data.rar, gdrive/My Drive/file/loan_data.rar.zip or gdrive/My Drive/file/loan_data.rar.ZIP.\n"
          ]
        }
      ]
    },
    {
      "cell_type": "code",
      "source": [
        "!unrar x /content/drive/MyDrive/loan_data.rar"
      ],
      "metadata": {
        "colab": {
          "base_uri": "https://localhost:8080/",
          "height": 0
        },
        "id": "fywsSLUPdU3E",
        "outputId": "962b9a66-3ae3-4753-9957-ec49033d0817"
      },
      "execution_count": 7,
      "outputs": [
        {
          "output_type": "stream",
          "name": "stdout",
          "text": [
            "\n",
            "UNRAR 5.50 freeware      Copyright (c) 1993-2017 Alexander Roshal\n",
            "\n",
            "\n",
            "Extracting from /content/drive/MyDrive/loan_data.rar\n",
            "\n",
            "Extracting  loan_data.csv                                                \b\b\b\b 15%\b\b\b\b 31%\b\b\b\b 46%\b\b\b\b 62%\b\b\b\b 78%\b\b\b\b 93%\b\b\b\b 99%\b\b\b\b\b  OK \n",
            "All OK\n"
          ]
        }
      ]
    },
    {
      "cell_type": "code",
      "execution_count": 8,
      "metadata": {
        "colab": {
          "base_uri": "https://localhost:8080/",
          "height": 0
        },
        "id": "nEJDHlpkjoFF",
        "outputId": "4655136f-a558-443f-cd49-3ed94f2dc3d3"
      },
      "outputs": [
        {
          "output_type": "execute_result",
          "data": {
            "text/plain": [
              "(307511, 122)"
            ]
          },
          "metadata": {},
          "execution_count": 8
        }
      ],
      "source": [
        "loan_df = pd.read_csv('loan_data.csv')\n",
        "loan_df.shape"
      ]
    },
    {
      "cell_type": "markdown",
      "source": [
        "**Display Top 5 rows of dataset in transpose form to understabd the features well**"
      ],
      "metadata": {
        "id": "v8_mjccMh3Y-"
      }
    },
    {
      "cell_type": "code",
      "execution_count": 9,
      "metadata": {
        "id": "7tClRhT2joFJ",
        "colab": {
          "base_uri": "https://localhost:8080/",
          "height": 424
        },
        "outputId": "5977cbd6-a2ce-46a9-a071-6237cfb2b663"
      },
      "outputs": [
        {
          "output_type": "execute_result",
          "data": {
            "text/plain": [
              "                                     0           1                2  \\\n",
              "SK_ID_CURR                      100002      100003           100004   \n",
              "TARGET                               1           0                0   \n",
              "NAME_CONTRACT_TYPE          Cash loans  Cash loans  Revolving loans   \n",
              "CODE_GENDER                          M           F                M   \n",
              "FLAG_OWN_CAR                         N           N                Y   \n",
              "...                                ...         ...              ...   \n",
              "AMT_REQ_CREDIT_BUREAU_DAY          0.0         0.0              0.0   \n",
              "AMT_REQ_CREDIT_BUREAU_WEEK         0.0         0.0              0.0   \n",
              "AMT_REQ_CREDIT_BUREAU_MON          0.0         0.0              0.0   \n",
              "AMT_REQ_CREDIT_BUREAU_QRT          0.0         0.0              0.0   \n",
              "AMT_REQ_CREDIT_BUREAU_YEAR         1.0         0.0              0.0   \n",
              "\n",
              "                                     3           4  \n",
              "SK_ID_CURR                      100006      100007  \n",
              "TARGET                               0           0  \n",
              "NAME_CONTRACT_TYPE          Cash loans  Cash loans  \n",
              "CODE_GENDER                          F           M  \n",
              "FLAG_OWN_CAR                         N           N  \n",
              "...                                ...         ...  \n",
              "AMT_REQ_CREDIT_BUREAU_DAY          NaN         0.0  \n",
              "AMT_REQ_CREDIT_BUREAU_WEEK         NaN         0.0  \n",
              "AMT_REQ_CREDIT_BUREAU_MON          NaN         0.0  \n",
              "AMT_REQ_CREDIT_BUREAU_QRT          NaN         0.0  \n",
              "AMT_REQ_CREDIT_BUREAU_YEAR         NaN         0.0  \n",
              "\n",
              "[122 rows x 5 columns]"
            ],
            "text/html": [
              "\n",
              "  <div id=\"df-d16e56dc-5a9c-433f-a73a-5e69559ad1d6\">\n",
              "    <div class=\"colab-df-container\">\n",
              "      <div>\n",
              "<style scoped>\n",
              "    .dataframe tbody tr th:only-of-type {\n",
              "        vertical-align: middle;\n",
              "    }\n",
              "\n",
              "    .dataframe tbody tr th {\n",
              "        vertical-align: top;\n",
              "    }\n",
              "\n",
              "    .dataframe thead th {\n",
              "        text-align: right;\n",
              "    }\n",
              "</style>\n",
              "<table border=\"1\" class=\"dataframe\">\n",
              "  <thead>\n",
              "    <tr style=\"text-align: right;\">\n",
              "      <th></th>\n",
              "      <th>0</th>\n",
              "      <th>1</th>\n",
              "      <th>2</th>\n",
              "      <th>3</th>\n",
              "      <th>4</th>\n",
              "    </tr>\n",
              "  </thead>\n",
              "  <tbody>\n",
              "    <tr>\n",
              "      <th>SK_ID_CURR</th>\n",
              "      <td>100002</td>\n",
              "      <td>100003</td>\n",
              "      <td>100004</td>\n",
              "      <td>100006</td>\n",
              "      <td>100007</td>\n",
              "    </tr>\n",
              "    <tr>\n",
              "      <th>TARGET</th>\n",
              "      <td>1</td>\n",
              "      <td>0</td>\n",
              "      <td>0</td>\n",
              "      <td>0</td>\n",
              "      <td>0</td>\n",
              "    </tr>\n",
              "    <tr>\n",
              "      <th>NAME_CONTRACT_TYPE</th>\n",
              "      <td>Cash loans</td>\n",
              "      <td>Cash loans</td>\n",
              "      <td>Revolving loans</td>\n",
              "      <td>Cash loans</td>\n",
              "      <td>Cash loans</td>\n",
              "    </tr>\n",
              "    <tr>\n",
              "      <th>CODE_GENDER</th>\n",
              "      <td>M</td>\n",
              "      <td>F</td>\n",
              "      <td>M</td>\n",
              "      <td>F</td>\n",
              "      <td>M</td>\n",
              "    </tr>\n",
              "    <tr>\n",
              "      <th>FLAG_OWN_CAR</th>\n",
              "      <td>N</td>\n",
              "      <td>N</td>\n",
              "      <td>Y</td>\n",
              "      <td>N</td>\n",
              "      <td>N</td>\n",
              "    </tr>\n",
              "    <tr>\n",
              "      <th>...</th>\n",
              "      <td>...</td>\n",
              "      <td>...</td>\n",
              "      <td>...</td>\n",
              "      <td>...</td>\n",
              "      <td>...</td>\n",
              "    </tr>\n",
              "    <tr>\n",
              "      <th>AMT_REQ_CREDIT_BUREAU_DAY</th>\n",
              "      <td>0.0</td>\n",
              "      <td>0.0</td>\n",
              "      <td>0.0</td>\n",
              "      <td>NaN</td>\n",
              "      <td>0.0</td>\n",
              "    </tr>\n",
              "    <tr>\n",
              "      <th>AMT_REQ_CREDIT_BUREAU_WEEK</th>\n",
              "      <td>0.0</td>\n",
              "      <td>0.0</td>\n",
              "      <td>0.0</td>\n",
              "      <td>NaN</td>\n",
              "      <td>0.0</td>\n",
              "    </tr>\n",
              "    <tr>\n",
              "      <th>AMT_REQ_CREDIT_BUREAU_MON</th>\n",
              "      <td>0.0</td>\n",
              "      <td>0.0</td>\n",
              "      <td>0.0</td>\n",
              "      <td>NaN</td>\n",
              "      <td>0.0</td>\n",
              "    </tr>\n",
              "    <tr>\n",
              "      <th>AMT_REQ_CREDIT_BUREAU_QRT</th>\n",
              "      <td>0.0</td>\n",
              "      <td>0.0</td>\n",
              "      <td>0.0</td>\n",
              "      <td>NaN</td>\n",
              "      <td>0.0</td>\n",
              "    </tr>\n",
              "    <tr>\n",
              "      <th>AMT_REQ_CREDIT_BUREAU_YEAR</th>\n",
              "      <td>1.0</td>\n",
              "      <td>0.0</td>\n",
              "      <td>0.0</td>\n",
              "      <td>NaN</td>\n",
              "      <td>0.0</td>\n",
              "    </tr>\n",
              "  </tbody>\n",
              "</table>\n",
              "<p>122 rows × 5 columns</p>\n",
              "</div>\n",
              "      <button class=\"colab-df-convert\" onclick=\"convertToInteractive('df-d16e56dc-5a9c-433f-a73a-5e69559ad1d6')\"\n",
              "              title=\"Convert this dataframe to an interactive table.\"\n",
              "              style=\"display:none;\">\n",
              "        \n",
              "  <svg xmlns=\"http://www.w3.org/2000/svg\" height=\"24px\"viewBox=\"0 0 24 24\"\n",
              "       width=\"24px\">\n",
              "    <path d=\"M0 0h24v24H0V0z\" fill=\"none\"/>\n",
              "    <path d=\"M18.56 5.44l.94 2.06.94-2.06 2.06-.94-2.06-.94-.94-2.06-.94 2.06-2.06.94zm-11 1L8.5 8.5l.94-2.06 2.06-.94-2.06-.94L8.5 2.5l-.94 2.06-2.06.94zm10 10l.94 2.06.94-2.06 2.06-.94-2.06-.94-.94-2.06-.94 2.06-2.06.94z\"/><path d=\"M17.41 7.96l-1.37-1.37c-.4-.4-.92-.59-1.43-.59-.52 0-1.04.2-1.43.59L10.3 9.45l-7.72 7.72c-.78.78-.78 2.05 0 2.83L4 21.41c.39.39.9.59 1.41.59.51 0 1.02-.2 1.41-.59l7.78-7.78 2.81-2.81c.8-.78.8-2.07 0-2.86zM5.41 20L4 18.59l7.72-7.72 1.47 1.35L5.41 20z\"/>\n",
              "  </svg>\n",
              "      </button>\n",
              "      \n",
              "  <style>\n",
              "    .colab-df-container {\n",
              "      display:flex;\n",
              "      flex-wrap:wrap;\n",
              "      gap: 12px;\n",
              "    }\n",
              "\n",
              "    .colab-df-convert {\n",
              "      background-color: #E8F0FE;\n",
              "      border: none;\n",
              "      border-radius: 50%;\n",
              "      cursor: pointer;\n",
              "      display: none;\n",
              "      fill: #1967D2;\n",
              "      height: 32px;\n",
              "      padding: 0 0 0 0;\n",
              "      width: 32px;\n",
              "    }\n",
              "\n",
              "    .colab-df-convert:hover {\n",
              "      background-color: #E2EBFA;\n",
              "      box-shadow: 0px 1px 2px rgba(60, 64, 67, 0.3), 0px 1px 3px 1px rgba(60, 64, 67, 0.15);\n",
              "      fill: #174EA6;\n",
              "    }\n",
              "\n",
              "    [theme=dark] .colab-df-convert {\n",
              "      background-color: #3B4455;\n",
              "      fill: #D2E3FC;\n",
              "    }\n",
              "\n",
              "    [theme=dark] .colab-df-convert:hover {\n",
              "      background-color: #434B5C;\n",
              "      box-shadow: 0px 1px 3px 1px rgba(0, 0, 0, 0.15);\n",
              "      filter: drop-shadow(0px 1px 2px rgba(0, 0, 0, 0.3));\n",
              "      fill: #FFFFFF;\n",
              "    }\n",
              "  </style>\n",
              "\n",
              "      <script>\n",
              "        const buttonEl =\n",
              "          document.querySelector('#df-d16e56dc-5a9c-433f-a73a-5e69559ad1d6 button.colab-df-convert');\n",
              "        buttonEl.style.display =\n",
              "          google.colab.kernel.accessAllowed ? 'block' : 'none';\n",
              "\n",
              "        async function convertToInteractive(key) {\n",
              "          const element = document.querySelector('#df-d16e56dc-5a9c-433f-a73a-5e69559ad1d6');\n",
              "          const dataTable =\n",
              "            await google.colab.kernel.invokeFunction('convertToInteractive',\n",
              "                                                     [key], {});\n",
              "          if (!dataTable) return;\n",
              "\n",
              "          const docLinkHtml = 'Like what you see? Visit the ' +\n",
              "            '<a target=\"_blank\" href=https://colab.research.google.com/notebooks/data_table.ipynb>data table notebook</a>'\n",
              "            + ' to learn more about interactive tables.';\n",
              "          element.innerHTML = '';\n",
              "          dataTable['output_type'] = 'display_data';\n",
              "          await google.colab.output.renderOutput(dataTable, element);\n",
              "          const docLink = document.createElement('div');\n",
              "          docLink.innerHTML = docLinkHtml;\n",
              "          element.appendChild(docLink);\n",
              "        }\n",
              "      </script>\n",
              "    </div>\n",
              "  </div>\n",
              "  "
            ]
          },
          "metadata": {},
          "execution_count": 9
        }
      ],
      "source": [
        "loan_df.head().T"
      ]
    },
    {
      "cell_type": "code",
      "source": [
        "loan_df.info()"
      ],
      "metadata": {
        "colab": {
          "base_uri": "https://localhost:8080/",
          "height": 0
        },
        "id": "pg-6jpa4eLN9",
        "outputId": "01a11ac3-05a1-4c34-d43e-92c2d8da6241"
      },
      "execution_count": 10,
      "outputs": [
        {
          "output_type": "stream",
          "name": "stdout",
          "text": [
            "<class 'pandas.core.frame.DataFrame'>\n",
            "RangeIndex: 307511 entries, 0 to 307510\n",
            "Columns: 122 entries, SK_ID_CURR to AMT_REQ_CREDIT_BUREAU_YEAR\n",
            "dtypes: float64(65), int64(41), object(16)\n",
            "memory usage: 286.2+ MB\n"
          ]
        }
      ]
    },
    {
      "cell_type": "code",
      "source": [
        "pd.set_option(\"display.max_rows\",None)\n",
        "loan_df.dtypes"
      ],
      "metadata": {
        "colab": {
          "base_uri": "https://localhost:8080/",
          "height": 0
        },
        "id": "ZX201EHyf-NU",
        "outputId": "da38d469-d8cf-4325-9913-ad6d299ac4ec"
      },
      "execution_count": 11,
      "outputs": [
        {
          "output_type": "execute_result",
          "data": {
            "text/plain": [
              "SK_ID_CURR                        int64\n",
              "TARGET                            int64\n",
              "NAME_CONTRACT_TYPE               object\n",
              "CODE_GENDER                      object\n",
              "FLAG_OWN_CAR                     object\n",
              "FLAG_OWN_REALTY                  object\n",
              "CNT_CHILDREN                      int64\n",
              "AMT_INCOME_TOTAL                float64\n",
              "AMT_CREDIT                      float64\n",
              "AMT_ANNUITY                     float64\n",
              "AMT_GOODS_PRICE                 float64\n",
              "NAME_TYPE_SUITE                  object\n",
              "NAME_INCOME_TYPE                 object\n",
              "NAME_EDUCATION_TYPE              object\n",
              "NAME_FAMILY_STATUS               object\n",
              "NAME_HOUSING_TYPE                object\n",
              "REGION_POPULATION_RELATIVE      float64\n",
              "DAYS_BIRTH                        int64\n",
              "DAYS_EMPLOYED                     int64\n",
              "DAYS_REGISTRATION               float64\n",
              "DAYS_ID_PUBLISH                   int64\n",
              "OWN_CAR_AGE                     float64\n",
              "FLAG_MOBIL                        int64\n",
              "FLAG_EMP_PHONE                    int64\n",
              "FLAG_WORK_PHONE                   int64\n",
              "FLAG_CONT_MOBILE                  int64\n",
              "FLAG_PHONE                        int64\n",
              "FLAG_EMAIL                        int64\n",
              "OCCUPATION_TYPE                  object\n",
              "CNT_FAM_MEMBERS                 float64\n",
              "REGION_RATING_CLIENT              int64\n",
              "REGION_RATING_CLIENT_W_CITY       int64\n",
              "WEEKDAY_APPR_PROCESS_START       object\n",
              "HOUR_APPR_PROCESS_START           int64\n",
              "REG_REGION_NOT_LIVE_REGION        int64\n",
              "REG_REGION_NOT_WORK_REGION        int64\n",
              "LIVE_REGION_NOT_WORK_REGION       int64\n",
              "REG_CITY_NOT_LIVE_CITY            int64\n",
              "REG_CITY_NOT_WORK_CITY            int64\n",
              "LIVE_CITY_NOT_WORK_CITY           int64\n",
              "ORGANIZATION_TYPE                object\n",
              "EXT_SOURCE_1                    float64\n",
              "EXT_SOURCE_2                    float64\n",
              "EXT_SOURCE_3                    float64\n",
              "APARTMENTS_AVG                  float64\n",
              "BASEMENTAREA_AVG                float64\n",
              "YEARS_BEGINEXPLUATATION_AVG     float64\n",
              "YEARS_BUILD_AVG                 float64\n",
              "COMMONAREA_AVG                  float64\n",
              "ELEVATORS_AVG                   float64\n",
              "ENTRANCES_AVG                   float64\n",
              "FLOORSMAX_AVG                   float64\n",
              "FLOORSMIN_AVG                   float64\n",
              "LANDAREA_AVG                    float64\n",
              "LIVINGAPARTMENTS_AVG            float64\n",
              "LIVINGAREA_AVG                  float64\n",
              "NONLIVINGAPARTMENTS_AVG         float64\n",
              "NONLIVINGAREA_AVG               float64\n",
              "APARTMENTS_MODE                 float64\n",
              "BASEMENTAREA_MODE               float64\n",
              "YEARS_BEGINEXPLUATATION_MODE    float64\n",
              "YEARS_BUILD_MODE                float64\n",
              "COMMONAREA_MODE                 float64\n",
              "ELEVATORS_MODE                  float64\n",
              "ENTRANCES_MODE                  float64\n",
              "FLOORSMAX_MODE                  float64\n",
              "FLOORSMIN_MODE                  float64\n",
              "LANDAREA_MODE                   float64\n",
              "LIVINGAPARTMENTS_MODE           float64\n",
              "LIVINGAREA_MODE                 float64\n",
              "NONLIVINGAPARTMENTS_MODE        float64\n",
              "NONLIVINGAREA_MODE              float64\n",
              "APARTMENTS_MEDI                 float64\n",
              "BASEMENTAREA_MEDI               float64\n",
              "YEARS_BEGINEXPLUATATION_MEDI    float64\n",
              "YEARS_BUILD_MEDI                float64\n",
              "COMMONAREA_MEDI                 float64\n",
              "ELEVATORS_MEDI                  float64\n",
              "ENTRANCES_MEDI                  float64\n",
              "FLOORSMAX_MEDI                  float64\n",
              "FLOORSMIN_MEDI                  float64\n",
              "LANDAREA_MEDI                   float64\n",
              "LIVINGAPARTMENTS_MEDI           float64\n",
              "LIVINGAREA_MEDI                 float64\n",
              "NONLIVINGAPARTMENTS_MEDI        float64\n",
              "NONLIVINGAREA_MEDI              float64\n",
              "FONDKAPREMONT_MODE               object\n",
              "HOUSETYPE_MODE                   object\n",
              "TOTALAREA_MODE                  float64\n",
              "WALLSMATERIAL_MODE               object\n",
              "EMERGENCYSTATE_MODE              object\n",
              "OBS_30_CNT_SOCIAL_CIRCLE        float64\n",
              "DEF_30_CNT_SOCIAL_CIRCLE        float64\n",
              "OBS_60_CNT_SOCIAL_CIRCLE        float64\n",
              "DEF_60_CNT_SOCIAL_CIRCLE        float64\n",
              "DAYS_LAST_PHONE_CHANGE          float64\n",
              "FLAG_DOCUMENT_2                   int64\n",
              "FLAG_DOCUMENT_3                   int64\n",
              "FLAG_DOCUMENT_4                   int64\n",
              "FLAG_DOCUMENT_5                   int64\n",
              "FLAG_DOCUMENT_6                   int64\n",
              "FLAG_DOCUMENT_7                   int64\n",
              "FLAG_DOCUMENT_8                   int64\n",
              "FLAG_DOCUMENT_9                   int64\n",
              "FLAG_DOCUMENT_10                  int64\n",
              "FLAG_DOCUMENT_11                  int64\n",
              "FLAG_DOCUMENT_12                  int64\n",
              "FLAG_DOCUMENT_13                  int64\n",
              "FLAG_DOCUMENT_14                  int64\n",
              "FLAG_DOCUMENT_15                  int64\n",
              "FLAG_DOCUMENT_16                  int64\n",
              "FLAG_DOCUMENT_17                  int64\n",
              "FLAG_DOCUMENT_18                  int64\n",
              "FLAG_DOCUMENT_19                  int64\n",
              "FLAG_DOCUMENT_20                  int64\n",
              "FLAG_DOCUMENT_21                  int64\n",
              "AMT_REQ_CREDIT_BUREAU_HOUR      float64\n",
              "AMT_REQ_CREDIT_BUREAU_DAY       float64\n",
              "AMT_REQ_CREDIT_BUREAU_WEEK      float64\n",
              "AMT_REQ_CREDIT_BUREAU_MON       float64\n",
              "AMT_REQ_CREDIT_BUREAU_QRT       float64\n",
              "AMT_REQ_CREDIT_BUREAU_YEAR      float64\n",
              "dtype: object"
            ]
          },
          "metadata": {},
          "execution_count": 11
        }
      ]
    },
    {
      "cell_type": "code",
      "source": [
        "# converting object datatypes to numeric\n",
        "from sklearn.preprocessing import LabelEncoder\n",
        "label_encode = LabelEncoder()\n",
        "\n",
        "for col in loan_df.columns:\n",
        "  if loan_df[col].dtype == 'object':\n",
        "    loan_df[col] = label_encode.fit_transform(loan_df[col])\n"
      ],
      "metadata": {
        "id": "Z2ySCXRxiNQn"
      },
      "execution_count": 12,
      "outputs": []
    },
    {
      "cell_type": "code",
      "source": [
        "pd.reset_option('all')"
      ],
      "metadata": {
        "colab": {
          "base_uri": "https://localhost:8080/",
          "height": 0
        },
        "id": "9BiEPynvlhMa",
        "outputId": "9ef0af32-2b15-4feb-fdb2-c4173e209fea"
      },
      "execution_count": 13,
      "outputs": [
        {
          "output_type": "stream",
          "name": "stdout",
          "text": [
            "As the xlwt package is no longer maintained, the xlwt engine will be removed in a future version of pandas. This is the only engine in pandas that supports writing in the xls format. Install openpyxl and write to an xlsx file instead.\n",
            "\n",
            ": boolean\n",
            "    use_inf_as_null had been deprecated and will be removed in a future\n",
            "    version. Use `use_inf_as_na` instead.\n",
            "\n"
          ]
        },
        {
          "output_type": "stream",
          "name": "stderr",
          "text": [
            "/usr/local/lib/python3.7/dist-packages/pandas/_config/config.py:630: FutureWarning: As the xlwt package is no longer maintained, the xlwt engine will be removed in a future version of pandas. This is the only engine in pandas that supports writing in the xls format. Install openpyxl and write to an xlsx file instead.\n",
            "  warnings.warn(d.msg, FutureWarning)\n",
            "/usr/local/lib/python3.7/dist-packages/pandas/_config/config.py:630: FutureWarning: \n",
            ": boolean\n",
            "    use_inf_as_null had been deprecated and will be removed in a future\n",
            "    version. Use `use_inf_as_na` instead.\n",
            "\n",
            "  warnings.warn(d.msg, FutureWarning)\n"
          ]
        }
      ]
    },
    {
      "cell_type": "markdown",
      "source": [
        "**Check for null values in the dataset**"
      ],
      "metadata": {
        "id": "ADGBNgL6g6HN"
      }
    },
    {
      "cell_type": "code",
      "source": [
        "loan_df.head().T"
      ],
      "metadata": {
        "colab": {
          "base_uri": "https://localhost:8080/",
          "height": 424
        },
        "id": "5qkHDHkNm3mR",
        "outputId": "91bbbe6c-7275-44f8-bd87-e5511e0ad96b"
      },
      "execution_count": 14,
      "outputs": [
        {
          "output_type": "execute_result",
          "data": {
            "text/plain": [
              "                                   0         1         2         3         4\n",
              "SK_ID_CURR                  100002.0  100003.0  100004.0  100006.0  100007.0\n",
              "TARGET                           1.0       0.0       0.0       0.0       0.0\n",
              "NAME_CONTRACT_TYPE               0.0       0.0       1.0       0.0       0.0\n",
              "CODE_GENDER                      1.0       0.0       1.0       0.0       1.0\n",
              "FLAG_OWN_CAR                     0.0       0.0       1.0       0.0       0.0\n",
              "...                              ...       ...       ...       ...       ...\n",
              "AMT_REQ_CREDIT_BUREAU_DAY        0.0       0.0       0.0       NaN       0.0\n",
              "AMT_REQ_CREDIT_BUREAU_WEEK       0.0       0.0       0.0       NaN       0.0\n",
              "AMT_REQ_CREDIT_BUREAU_MON        0.0       0.0       0.0       NaN       0.0\n",
              "AMT_REQ_CREDIT_BUREAU_QRT        0.0       0.0       0.0       NaN       0.0\n",
              "AMT_REQ_CREDIT_BUREAU_YEAR       1.0       0.0       0.0       NaN       0.0\n",
              "\n",
              "[122 rows x 5 columns]"
            ],
            "text/html": [
              "\n",
              "  <div id=\"df-dc8ca15e-fef1-4a99-b0c7-ad5907b8f9a9\">\n",
              "    <div class=\"colab-df-container\">\n",
              "      <div>\n",
              "<style scoped>\n",
              "    .dataframe tbody tr th:only-of-type {\n",
              "        vertical-align: middle;\n",
              "    }\n",
              "\n",
              "    .dataframe tbody tr th {\n",
              "        vertical-align: top;\n",
              "    }\n",
              "\n",
              "    .dataframe thead th {\n",
              "        text-align: right;\n",
              "    }\n",
              "</style>\n",
              "<table border=\"1\" class=\"dataframe\">\n",
              "  <thead>\n",
              "    <tr style=\"text-align: right;\">\n",
              "      <th></th>\n",
              "      <th>0</th>\n",
              "      <th>1</th>\n",
              "      <th>2</th>\n",
              "      <th>3</th>\n",
              "      <th>4</th>\n",
              "    </tr>\n",
              "  </thead>\n",
              "  <tbody>\n",
              "    <tr>\n",
              "      <th>SK_ID_CURR</th>\n",
              "      <td>100002.0</td>\n",
              "      <td>100003.0</td>\n",
              "      <td>100004.0</td>\n",
              "      <td>100006.0</td>\n",
              "      <td>100007.0</td>\n",
              "    </tr>\n",
              "    <tr>\n",
              "      <th>TARGET</th>\n",
              "      <td>1.0</td>\n",
              "      <td>0.0</td>\n",
              "      <td>0.0</td>\n",
              "      <td>0.0</td>\n",
              "      <td>0.0</td>\n",
              "    </tr>\n",
              "    <tr>\n",
              "      <th>NAME_CONTRACT_TYPE</th>\n",
              "      <td>0.0</td>\n",
              "      <td>0.0</td>\n",
              "      <td>1.0</td>\n",
              "      <td>0.0</td>\n",
              "      <td>0.0</td>\n",
              "    </tr>\n",
              "    <tr>\n",
              "      <th>CODE_GENDER</th>\n",
              "      <td>1.0</td>\n",
              "      <td>0.0</td>\n",
              "      <td>1.0</td>\n",
              "      <td>0.0</td>\n",
              "      <td>1.0</td>\n",
              "    </tr>\n",
              "    <tr>\n",
              "      <th>FLAG_OWN_CAR</th>\n",
              "      <td>0.0</td>\n",
              "      <td>0.0</td>\n",
              "      <td>1.0</td>\n",
              "      <td>0.0</td>\n",
              "      <td>0.0</td>\n",
              "    </tr>\n",
              "    <tr>\n",
              "      <th>...</th>\n",
              "      <td>...</td>\n",
              "      <td>...</td>\n",
              "      <td>...</td>\n",
              "      <td>...</td>\n",
              "      <td>...</td>\n",
              "    </tr>\n",
              "    <tr>\n",
              "      <th>AMT_REQ_CREDIT_BUREAU_DAY</th>\n",
              "      <td>0.0</td>\n",
              "      <td>0.0</td>\n",
              "      <td>0.0</td>\n",
              "      <td>NaN</td>\n",
              "      <td>0.0</td>\n",
              "    </tr>\n",
              "    <tr>\n",
              "      <th>AMT_REQ_CREDIT_BUREAU_WEEK</th>\n",
              "      <td>0.0</td>\n",
              "      <td>0.0</td>\n",
              "      <td>0.0</td>\n",
              "      <td>NaN</td>\n",
              "      <td>0.0</td>\n",
              "    </tr>\n",
              "    <tr>\n",
              "      <th>AMT_REQ_CREDIT_BUREAU_MON</th>\n",
              "      <td>0.0</td>\n",
              "      <td>0.0</td>\n",
              "      <td>0.0</td>\n",
              "      <td>NaN</td>\n",
              "      <td>0.0</td>\n",
              "    </tr>\n",
              "    <tr>\n",
              "      <th>AMT_REQ_CREDIT_BUREAU_QRT</th>\n",
              "      <td>0.0</td>\n",
              "      <td>0.0</td>\n",
              "      <td>0.0</td>\n",
              "      <td>NaN</td>\n",
              "      <td>0.0</td>\n",
              "    </tr>\n",
              "    <tr>\n",
              "      <th>AMT_REQ_CREDIT_BUREAU_YEAR</th>\n",
              "      <td>1.0</td>\n",
              "      <td>0.0</td>\n",
              "      <td>0.0</td>\n",
              "      <td>NaN</td>\n",
              "      <td>0.0</td>\n",
              "    </tr>\n",
              "  </tbody>\n",
              "</table>\n",
              "<p>122 rows × 5 columns</p>\n",
              "</div>\n",
              "      <button class=\"colab-df-convert\" onclick=\"convertToInteractive('df-dc8ca15e-fef1-4a99-b0c7-ad5907b8f9a9')\"\n",
              "              title=\"Convert this dataframe to an interactive table.\"\n",
              "              style=\"display:none;\">\n",
              "        \n",
              "  <svg xmlns=\"http://www.w3.org/2000/svg\" height=\"24px\"viewBox=\"0 0 24 24\"\n",
              "       width=\"24px\">\n",
              "    <path d=\"M0 0h24v24H0V0z\" fill=\"none\"/>\n",
              "    <path d=\"M18.56 5.44l.94 2.06.94-2.06 2.06-.94-2.06-.94-.94-2.06-.94 2.06-2.06.94zm-11 1L8.5 8.5l.94-2.06 2.06-.94-2.06-.94L8.5 2.5l-.94 2.06-2.06.94zm10 10l.94 2.06.94-2.06 2.06-.94-2.06-.94-.94-2.06-.94 2.06-2.06.94z\"/><path d=\"M17.41 7.96l-1.37-1.37c-.4-.4-.92-.59-1.43-.59-.52 0-1.04.2-1.43.59L10.3 9.45l-7.72 7.72c-.78.78-.78 2.05 0 2.83L4 21.41c.39.39.9.59 1.41.59.51 0 1.02-.2 1.41-.59l7.78-7.78 2.81-2.81c.8-.78.8-2.07 0-2.86zM5.41 20L4 18.59l7.72-7.72 1.47 1.35L5.41 20z\"/>\n",
              "  </svg>\n",
              "      </button>\n",
              "      \n",
              "  <style>\n",
              "    .colab-df-container {\n",
              "      display:flex;\n",
              "      flex-wrap:wrap;\n",
              "      gap: 12px;\n",
              "    }\n",
              "\n",
              "    .colab-df-convert {\n",
              "      background-color: #E8F0FE;\n",
              "      border: none;\n",
              "      border-radius: 50%;\n",
              "      cursor: pointer;\n",
              "      display: none;\n",
              "      fill: #1967D2;\n",
              "      height: 32px;\n",
              "      padding: 0 0 0 0;\n",
              "      width: 32px;\n",
              "    }\n",
              "\n",
              "    .colab-df-convert:hover {\n",
              "      background-color: #E2EBFA;\n",
              "      box-shadow: 0px 1px 2px rgba(60, 64, 67, 0.3), 0px 1px 3px 1px rgba(60, 64, 67, 0.15);\n",
              "      fill: #174EA6;\n",
              "    }\n",
              "\n",
              "    [theme=dark] .colab-df-convert {\n",
              "      background-color: #3B4455;\n",
              "      fill: #D2E3FC;\n",
              "    }\n",
              "\n",
              "    [theme=dark] .colab-df-convert:hover {\n",
              "      background-color: #434B5C;\n",
              "      box-shadow: 0px 1px 3px 1px rgba(0, 0, 0, 0.15);\n",
              "      filter: drop-shadow(0px 1px 2px rgba(0, 0, 0, 0.3));\n",
              "      fill: #FFFFFF;\n",
              "    }\n",
              "  </style>\n",
              "\n",
              "      <script>\n",
              "        const buttonEl =\n",
              "          document.querySelector('#df-dc8ca15e-fef1-4a99-b0c7-ad5907b8f9a9 button.colab-df-convert');\n",
              "        buttonEl.style.display =\n",
              "          google.colab.kernel.accessAllowed ? 'block' : 'none';\n",
              "\n",
              "        async function convertToInteractive(key) {\n",
              "          const element = document.querySelector('#df-dc8ca15e-fef1-4a99-b0c7-ad5907b8f9a9');\n",
              "          const dataTable =\n",
              "            await google.colab.kernel.invokeFunction('convertToInteractive',\n",
              "                                                     [key], {});\n",
              "          if (!dataTable) return;\n",
              "\n",
              "          const docLinkHtml = 'Like what you see? Visit the ' +\n",
              "            '<a target=\"_blank\" href=https://colab.research.google.com/notebooks/data_table.ipynb>data table notebook</a>'\n",
              "            + ' to learn more about interactive tables.';\n",
              "          element.innerHTML = '';\n",
              "          dataTable['output_type'] = 'display_data';\n",
              "          await google.colab.output.renderOutput(dataTable, element);\n",
              "          const docLink = document.createElement('div');\n",
              "          docLink.innerHTML = docLinkHtml;\n",
              "          element.appendChild(docLink);\n",
              "        }\n",
              "      </script>\n",
              "    </div>\n",
              "  </div>\n",
              "  "
            ]
          },
          "metadata": {},
          "execution_count": 14
        }
      ]
    },
    {
      "cell_type": "code",
      "source": [
        "loan_df.isnull().sum()"
      ],
      "metadata": {
        "colab": {
          "base_uri": "https://localhost:8080/",
          "height": 0
        },
        "id": "Ae7tj4yHg3yo",
        "outputId": "08a30ca4-1123-4975-e5a4-b178f0b14308"
      },
      "execution_count": 15,
      "outputs": [
        {
          "output_type": "execute_result",
          "data": {
            "text/plain": [
              "SK_ID_CURR                        0\n",
              "TARGET                            0\n",
              "NAME_CONTRACT_TYPE                0\n",
              "CODE_GENDER                       0\n",
              "FLAG_OWN_CAR                      0\n",
              "                              ...  \n",
              "AMT_REQ_CREDIT_BUREAU_DAY     41519\n",
              "AMT_REQ_CREDIT_BUREAU_WEEK    41519\n",
              "AMT_REQ_CREDIT_BUREAU_MON     41519\n",
              "AMT_REQ_CREDIT_BUREAU_QRT     41519\n",
              "AMT_REQ_CREDIT_BUREAU_YEAR    41519\n",
              "Length: 122, dtype: int64"
            ]
          },
          "metadata": {},
          "execution_count": 15
        }
      ]
    },
    {
      "cell_type": "markdown",
      "source": [
        "**Print percentage of default to payer of the dataset for the TARGET column**"
      ],
      "metadata": {
        "id": "m8mRmw69o-VU"
      }
    },
    {
      "cell_type": "code",
      "source": [
        "loan_df['TARGET'].value_counts()"
      ],
      "metadata": {
        "colab": {
          "base_uri": "https://localhost:8080/",
          "height": 0
        },
        "id": "dk9LZz8ooYq1",
        "outputId": "827943eb-91ae-467b-d0f3-ab7f19d36936"
      },
      "execution_count": 16,
      "outputs": [
        {
          "output_type": "execute_result",
          "data": {
            "text/plain": [
              "0    282686\n",
              "1     24825\n",
              "Name: TARGET, dtype: int64"
            ]
          },
          "metadata": {},
          "execution_count": 16
        }
      ]
    },
    {
      "cell_type": "code",
      "source": [
        "loan_df['TARGET'].value_counts().plot(kind='bar',xlabel ='Default(0-defalut,1-Not default)',ylabel = 'Total Nos');"
      ],
      "metadata": {
        "colab": {
          "base_uri": "https://localhost:8080/",
          "height": 276
        },
        "id": "uBm76_fypWbB",
        "outputId": "ca6b1a05-2c0f-42fb-ea02-3c75cc6c221c"
      },
      "execution_count": 17,
      "outputs": [
        {
          "output_type": "display_data",
          "data": {
            "text/plain": [
              "<Figure size 432x288 with 1 Axes>"
            ],
            "image/png": "[encoded data removed]"
          },
          "metadata": {
            "needs_background": "light"
          }
        }
      ]
    },
    {
      "cell_type": "code",
      "source": [
        "print('Percentage of defaults is:',\n",
        "      round(\n",
        "          100*loan_df['TARGET'].value_counts()[1]/loan_df['TARGET'].value_counts().sum(),\n",
        "          2),\n",
        "      '%')"
      ],
      "metadata": {
        "colab": {
          "base_uri": "https://localhost:8080/",
          "height": 0
        },
        "id": "6QerGux5rkJf",
        "outputId": "caf86419-012c-434d-924e-9e97ab6b33dd"
      },
      "execution_count": 18,
      "outputs": [
        {
          "output_type": "stream",
          "name": "stdout",
          "text": [
            "Percentage of defaults is: 8.07 %\n"
          ]
        }
      ]
    },
    {
      "cell_type": "markdown",
      "source": [
        "**Balance the dataset if the data is imbalanced**"
      ],
      "metadata": {
        "id": "FoydBKkDsqBq"
      }
    },
    {
      "cell_type": "code",
      "source": [
        "from sklearn.utils import resample\n",
        "#create two different dataframe of majority and minority class \n",
        "df_major = loan_df[(loan_df['TARGET']==0)] \n",
        "df_minor = loan_df[(loan_df['TARGET']==1)] \n",
        "# upsample minority class\n",
        "df_minor_upsample = resample(df_minor, \n",
        "                                 replace=True,\n",
        "                                 n_samples= 282686,\n",
        "                                 random_state=101)"
      ],
      "metadata": {
        "id": "kVsmMktSshwP"
      },
      "execution_count": 19,
      "outputs": []
    },
    {
      "cell_type": "code",
      "source": [
        "# Combine majority class with upsampled minority class\n",
        "loan_df_upsampled = pd.concat([df_minor_upsample, df_major])"
      ],
      "metadata": {
        "id": "M4qDRR2LxnjR"
      },
      "execution_count": 20,
      "outputs": []
    },
    {
      "cell_type": "code",
      "source": [
        "loan_df_upsampled['TARGET'].value_counts().plot(kind='bar',\n",
        "                                      xlabel ='Default(0-defalut,1-Not default)',\n",
        "                                      ylabel = 'Total Nos');"
      ],
      "metadata": {
        "colab": {
          "base_uri": "https://localhost:8080/",
          "height": 276
        },
        "id": "g14Pxr3gx7Ol",
        "outputId": "21c6f6fd-7713-4d53-8f93-b6aee555c153"
      },
      "execution_count": 21,
      "outputs": [
        {
          "output_type": "display_data",
          "data": {
            "text/plain": [
              "<Figure size 432x288 with 1 Axes>"
            ],
            "image/png": "[encoded data removed]"
          },
          "metadata": {
            "needs_background": "light"
          }
        }
      ]
    },
    {
      "cell_type": "code",
      "source": [
        "#shuffling of data\n",
        "loan_df_upsampled.sample(frac=1)\n",
        "loan_df_upsampled.head(10)"
      ],
      "metadata": {
        "colab": {
          "base_uri": "https://localhost:8080/",
          "height": 456
        },
        "id": "5-E8xypqyVKo",
        "outputId": "bf1d056e-ec04-4c77-ff67-f8fe8e0d7cb1"
      },
      "execution_count": 22,
      "outputs": [
        {
          "output_type": "execute_result",
          "data": {
            "text/plain": [
              "        SK_ID_CURR  TARGET  NAME_CONTRACT_TYPE  CODE_GENDER  FLAG_OWN_CAR  \\\n",
              "161622      287367       1                   0            1             0   \n",
              "220908      355906       1                   0            1             1   \n",
              "218605      353263       1                   0            0             1   \n",
              "98841       214766       1                   1            0             0   \n",
              "70978       182319       1                   0            0             0   \n",
              "208969      342201       1                   0            1             0   \n",
              "278519      422692       1                   0            0             0   \n",
              "151587      275708       1                   0            0             1   \n",
              "252218      391834       1                   0            0             0   \n",
              "213645      347563       1                   0            1             1   \n",
              "\n",
              "        FLAG_OWN_REALTY  CNT_CHILDREN  AMT_INCOME_TOTAL  AMT_CREDIT  \\\n",
              "161622                1             2          202500.0    888840.0   \n",
              "220908                1             2          315000.0    712858.5   \n",
              "218605                1             0          225000.0    757597.5   \n",
              "98841                 1             0           90000.0    202500.0   \n",
              "70978                 1             0          146250.0    553806.0   \n",
              "208969                1             0          112500.0    328500.0   \n",
              "278519                1             1          112500.0    253737.0   \n",
              "151587                1             0          103500.0    566055.0   \n",
              "252218                0             0          225000.0    900000.0   \n",
              "213645                0             1          225000.0    450000.0   \n",
              "\n",
              "        AMT_ANNUITY  ...  FLAG_DOCUMENT_18  FLAG_DOCUMENT_19  \\\n",
              "161622      37494.0  ...                 0                 0   \n",
              "220908      30330.0  ...                 0                 0   \n",
              "218605      40491.0  ...                 0                 0   \n",
              "98841       10125.0  ...                 0                 0   \n",
              "70978       30172.5  ...                 0                 0   \n",
              "208969      19980.0  ...                 0                 0   \n",
              "278519      25227.0  ...                 0                 0   \n",
              "151587      18387.0  ...                 0                 0   \n",
              "252218      45954.0  ...                 0                 0   \n",
              "213645      20979.0  ...                 0                 0   \n",
              "\n",
              "        FLAG_DOCUMENT_20  FLAG_DOCUMENT_21  AMT_REQ_CREDIT_BUREAU_HOUR  \\\n",
              "161622                 0                 0                         0.0   \n",
              "220908                 0                 0                         0.0   \n",
              "218605                 0                 0                         1.0   \n",
              "98841                  0                 0                         0.0   \n",
              "70978                  0                 0                         0.0   \n",
              "208969                 0                 0                         NaN   \n",
              "278519                 0                 0                         0.0   \n",
              "151587                 0                 0                         0.0   \n",
              "252218                 0                 0                         0.0   \n",
              "213645                 0                 0                         1.0   \n",
              "\n",
              "        AMT_REQ_CREDIT_BUREAU_DAY  AMT_REQ_CREDIT_BUREAU_WEEK  \\\n",
              "161622                        0.0                         0.0   \n",
              "220908                        0.0                         0.0   \n",
              "218605                        0.0                         0.0   \n",
              "98841                         0.0                         0.0   \n",
              "70978                         0.0                         0.0   \n",
              "208969                        NaN                         NaN   \n",
              "278519                        0.0                         0.0   \n",
              "151587                        0.0                         0.0   \n",
              "252218                        0.0                         0.0   \n",
              "213645                        0.0                         0.0   \n",
              "\n",
              "        AMT_REQ_CREDIT_BUREAU_MON  AMT_REQ_CREDIT_BUREAU_QRT  \\\n",
              "161622                        0.0                        0.0   \n",
              "220908                        0.0                        0.0   \n",
              "218605                        1.0                        0.0   \n",
              "98841                         0.0                        0.0   \n",
              "70978                         0.0                        0.0   \n",
              "208969                        NaN                        NaN   \n",
              "278519                        0.0                        0.0   \n",
              "151587                        0.0                        0.0   \n",
              "252218                        0.0                        0.0   \n",
              "213645                        0.0                        0.0   \n",
              "\n",
              "        AMT_REQ_CREDIT_BUREAU_YEAR  \n",
              "161622                         2.0  \n",
              "220908                         1.0  \n",
              "218605                         5.0  \n",
              "98841                          2.0  \n",
              "70978                          3.0  \n",
              "208969                         NaN  \n",
              "278519                         3.0  \n",
              "151587                         1.0  \n",
              "252218                         1.0  \n",
              "213645                         0.0  \n",
              "\n",
              "[10 rows x 122 columns]"
            ],
            "text/html": [
              "\n",
              "  <div id=\"df-296e5a75-23d8-4d22-8ef1-95347d823831\">\n",
              "    <div class=\"colab-df-container\">\n",
              "      <div>\n",
              "<style scoped>\n",
              "    .dataframe tbody tr th:only-of-type {\n",
              "        vertical-align: middle;\n",
              "    }\n",
              "\n",
              "    .dataframe tbody tr th {\n",
              "        vertical-align: top;\n",
              "    }\n",
              "\n",
              "    .dataframe thead th {\n",
              "        text-align: right;\n",
              "    }\n",
              "</style>\n",
              "<table border=\"1\" class=\"dataframe\">\n",
              "  <thead>\n",
              "    <tr style=\"text-align: right;\">\n",
              "      <th></th>\n",
              "      <th>SK_ID_CURR</th>\n",
              "      <th>TARGET</th>\n",
              "      <th>NAME_CONTRACT_TYPE</th>\n",
              "      <th>CODE_GENDER</th>\n",
              "      <th>FLAG_OWN_CAR</th>\n",
              "      <th>FLAG_OWN_REALTY</th>\n",
              "      <th>CNT_CHILDREN</th>\n",
              "      <th>AMT_INCOME_TOTAL</th>\n",
              "      <th>AMT_CREDIT</th>\n",
              "      <th>AMT_ANNUITY</th>\n",
              "      <th>...</th>\n",
              "      <th>FLAG_DOCUMENT_18</th>\n",
              "      <th>FLAG_DOCUMENT_19</th>\n",
              "      <th>FLAG_DOCUMENT_20</th>\n",
              "      <th>FLAG_DOCUMENT_21</th>\n",
              "      <th>AMT_REQ_CREDIT_BUREAU_HOUR</th>\n",
              "      <th>AMT_REQ_CREDIT_BUREAU_DAY</th>\n",
              "      <th>AMT_REQ_CREDIT_BUREAU_WEEK</th>\n",
              "      <th>AMT_REQ_CREDIT_BUREAU_MON</th>\n",
              "      <th>AMT_REQ_CREDIT_BUREAU_QRT</th>\n",
              "      <th>AMT_REQ_CREDIT_BUREAU_YEAR</th>\n",
              "    </tr>\n",
              "  </thead>\n",
              "  <tbody>\n",
              "    <tr>\n",
              "      <th>161622</th>\n",
              "      <td>287367</td>\n",
              "      <td>1</td>\n",
              "      <td>0</td>\n",
              "      <td>1</td>\n",
              "      <td>0</td>\n",
              "      <td>1</td>\n",
              "      <td>2</td>\n",
              "      <td>202500.0</td>\n",
              "      <td>888840.0</td>\n",
              "      <td>37494.0</td>\n",
              "      <td>...</td>\n",
              "      <td>0</td>\n",
              "      <td>0</td>\n",
              "      <td>0</td>\n",
              "      <td>0</td>\n",
              "      <td>0.0</td>\n",
              "      <td>0.0</td>\n",
              "      <td>0.0</td>\n",
              "      <td>0.0</td>\n",
              "      <td>0.0</td>\n",
              "      <td>2.0</td>\n",
              "    </tr>\n",
              "    <tr>\n",
              "      <th>220908</th>\n",
              "      <td>355906</td>\n",
              "      <td>1</td>\n",
              "      <td>0</td>\n",
              "      <td>1</td>\n",
              "      <td>1</td>\n",
              "      <td>1</td>\n",
              "      <td>2</td>\n",
              "      <td>315000.0</td>\n",
              "      <td>712858.5</td>\n",
              "      <td>30330.0</td>\n",
              "      <td>...</td>\n",
              "      <td>0</td>\n",
              "      <td>0</td>\n",
              "      <td>0</td>\n",
              "      <td>0</td>\n",
              "      <td>0.0</td>\n",
              "      <td>0.0</td>\n",
              "      <td>0.0</td>\n",
              "      <td>0.0</td>\n",
              "      <td>0.0</td>\n",
              "      <td>1.0</td>\n",
              "    </tr>\n",
              "    <tr>\n",
              "      <th>218605</th>\n",
              "      <td>353263</td>\n",
              "      <td>1</td>\n",
              "      <td>0</td>\n",
              "      <td>0</td>\n",
              "      <td>1</td>\n",
              "      <td>1</td>\n",
              "      <td>0</td>\n",
              "      <td>225000.0</td>\n",
              "      <td>757597.5</td>\n",
              "      <td>40491.0</td>\n",
              "      <td>...</td>\n",
              "      <td>0</td>\n",
              "      <td>0</td>\n",
              "      <td>0</td>\n",
              "      <td>0</td>\n",
              "      <td>1.0</td>\n",
              "      <td>0.0</td>\n",
              "      <td>0.0</td>\n",
              "      <td>1.0</td>\n",
              "      <td>0.0</td>\n",
              "      <td>5.0</td>\n",
              "    </tr>\n",
              "    <tr>\n",
              "      <th>98841</th>\n",
              "      <td>214766</td>\n",
              "      <td>1</td>\n",
              "      <td>1</td>\n",
              "      <td>0</td>\n",
              "      <td>0</td>\n",
              "      <td>1</td>\n",
              "      <td>0</td>\n",
              "      <td>90000.0</td>\n",
              "      <td>202500.0</td>\n",
              "      <td>10125.0</td>\n",
              "      <td>...</td>\n",
              "      <td>0</td>\n",
              "      <td>0</td>\n",
              "      <td>0</td>\n",
              "      <td>0</td>\n",
              "      <td>0.0</td>\n",
              "      <td>0.0</td>\n",
              "      <td>0.0</td>\n",
              "      <td>0.0</td>\n",
              "      <td>0.0</td>\n",
              "      <td>2.0</td>\n",
              "    </tr>\n",
              "    <tr>\n",
              "      <th>70978</th>\n",
              "      <td>182319</td>\n",
              "      <td>1</td>\n",
              "      <td>0</td>\n",
              "      <td>0</td>\n",
              "      <td>0</td>\n",
              "      <td>1</td>\n",
              "      <td>0</td>\n",
              "      <td>146250.0</td>\n",
              "      <td>553806.0</td>\n",
              "      <td>30172.5</td>\n",
              "      <td>...</td>\n",
              "      <td>0</td>\n",
              "      <td>0</td>\n",
              "      <td>0</td>\n",
              "      <td>0</td>\n",
              "      <td>0.0</td>\n",
              "      <td>0.0</td>\n",
              "      <td>0.0</td>\n",
              "      <td>0.0</td>\n",
              "      <td>0.0</td>\n",
              "      <td>3.0</td>\n",
              "    </tr>\n",
              "    <tr>\n",
              "      <th>208969</th>\n",
              "      <td>342201</td>\n",
              "      <td>1</td>\n",
              "      <td>0</td>\n",
              "      <td>1</td>\n",
              "      <td>0</td>\n",
              "      <td>1</td>\n",
              "      <td>0</td>\n",
              "      <td>112500.0</td>\n",
              "      <td>328500.0</td>\n",
              "      <td>19980.0</td>\n",
              "      <td>...</td>\n",
              "      <td>0</td>\n",
              "      <td>0</td>\n",
              "      <td>0</td>\n",
              "      <td>0</td>\n",
              "      <td>NaN</td>\n",
              "      <td>NaN</td>\n",
              "      <td>NaN</td>\n",
              "      <td>NaN</td>\n",
              "      <td>NaN</td>\n",
              "      <td>NaN</td>\n",
              "    </tr>\n",
              "    <tr>\n",
              "      <th>278519</th>\n",
              "      <td>422692</td>\n",
              "      <td>1</td>\n",
              "      <td>0</td>\n",
              "      <td>0</td>\n",
              "      <td>0</td>\n",
              "      <td>1</td>\n",
              "      <td>1</td>\n",
              "      <td>112500.0</td>\n",
              "      <td>253737.0</td>\n",
              "      <td>25227.0</td>\n",
              "      <td>...</td>\n",
              "      <td>0</td>\n",
              "      <td>0</td>\n",
              "      <td>0</td>\n",
              "      <td>0</td>\n",
              "      <td>0.0</td>\n",
              "      <td>0.0</td>\n",
              "      <td>0.0</td>\n",
              "      <td>0.0</td>\n",
              "      <td>0.0</td>\n",
              "      <td>3.0</td>\n",
              "    </tr>\n",
              "    <tr>\n",
              "      <th>151587</th>\n",
              "      <td>275708</td>\n",
              "      <td>1</td>\n",
              "      <td>0</td>\n",
              "      <td>0</td>\n",
              "      <td>1</td>\n",
              "      <td>1</td>\n",
              "      <td>0</td>\n",
              "      <td>103500.0</td>\n",
              "      <td>566055.0</td>\n",
              "      <td>18387.0</td>\n",
              "      <td>...</td>\n",
              "      <td>0</td>\n",
              "      <td>0</td>\n",
              "      <td>0</td>\n",
              "      <td>0</td>\n",
              "      <td>0.0</td>\n",
              "      <td>0.0</td>\n",
              "      <td>0.0</td>\n",
              "      <td>0.0</td>\n",
              "      <td>0.0</td>\n",
              "      <td>1.0</td>\n",
              "    </tr>\n",
              "    <tr>\n",
              "      <th>252218</th>\n",
              "      <td>391834</td>\n",
              "      <td>1</td>\n",
              "      <td>0</td>\n",
              "      <td>0</td>\n",
              "      <td>0</td>\n",
              "      <td>0</td>\n",
              "      <td>0</td>\n",
              "      <td>225000.0</td>\n",
              "      <td>900000.0</td>\n",
              "      <td>45954.0</td>\n",
              "      <td>...</td>\n",
              "      <td>0</td>\n",
              "      <td>0</td>\n",
              "      <td>0</td>\n",
              "      <td>0</td>\n",
              "      <td>0.0</td>\n",
              "      <td>0.0</td>\n",
              "      <td>0.0</td>\n",
              "      <td>0.0</td>\n",
              "      <td>0.0</td>\n",
              "      <td>1.0</td>\n",
              "    </tr>\n",
              "    <tr>\n",
              "      <th>213645</th>\n",
              "      <td>347563</td>\n",
              "      <td>1</td>\n",
              "      <td>0</td>\n",
              "      <td>1</td>\n",
              "      <td>1</td>\n",
              "      <td>0</td>\n",
              "      <td>1</td>\n",
              "      <td>225000.0</td>\n",
              "      <td>450000.0</td>\n",
              "      <td>20979.0</td>\n",
              "      <td>...</td>\n",
              "      <td>0</td>\n",
              "      <td>0</td>\n",
              "      <td>0</td>\n",
              "      <td>0</td>\n",
              "      <td>1.0</td>\n",
              "      <td>0.0</td>\n",
              "      <td>0.0</td>\n",
              "      <td>0.0</td>\n",
              "      <td>0.0</td>\n",
              "      <td>0.0</td>\n",
              "    </tr>\n",
              "  </tbody>\n",
              "</table>\n",
              "<p>10 rows × 122 columns</p>\n",
              "</div>\n",
              "      <button class=\"colab-df-convert\" onclick=\"convertToInteractive('df-296e5a75-23d8-4d22-8ef1-95347d823831')\"\n",
              "              title=\"Convert this dataframe to an interactive table.\"\n",
              "              style=\"display:none;\">\n",
              "        \n",
              "  <svg xmlns=\"http://www.w3.org/2000/svg\" height=\"24px\"viewBox=\"0 0 24 24\"\n",
              "       width=\"24px\">\n",
              "    <path d=\"M0 0h24v24H0V0z\" fill=\"none\"/>\n",
              "    <path d=\"M18.56 5.44l.94 2.06.94-2.06 2.06-.94-2.06-.94-.94-2.06-.94 2.06-2.06.94zm-11 1L8.5 8.5l.94-2.06 2.06-.94-2.06-.94L8.5 2.5l-.94 2.06-2.06.94zm10 10l.94 2.06.94-2.06 2.06-.94-2.06-.94-.94-2.06-.94 2.06-2.06.94z\"/><path d=\"M17.41 7.96l-1.37-1.37c-.4-.4-.92-.59-1.43-.59-.52 0-1.04.2-1.43.59L10.3 9.45l-7.72 7.72c-.78.78-.78 2.05 0 2.83L4 21.41c.39.39.9.59 1.41.59.51 0 1.02-.2 1.41-.59l7.78-7.78 2.81-2.81c.8-.78.8-2.07 0-2.86zM5.41 20L4 18.59l7.72-7.72 1.47 1.35L5.41 20z\"/>\n",
              "  </svg>\n",
              "      </button>\n",
              "      \n",
              "  <style>\n",
              "    .colab-df-container {\n",
              "      display:flex;\n",
              "      flex-wrap:wrap;\n",
              "      gap: 12px;\n",
              "    }\n",
              "\n",
              "    .colab-df-convert {\n",
              "      background-color: #E8F0FE;\n",
              "      border: none;\n",
              "      border-radius: 50%;\n",
              "      cursor: pointer;\n",
              "      display: none;\n",
              "      fill: #1967D2;\n",
              "      height: 32px;\n",
              "      padding: 0 0 0 0;\n",
              "      width: 32px;\n",
              "    }\n",
              "\n",
              "    .colab-df-convert:hover {\n",
              "      background-color: #E2EBFA;\n",
              "      box-shadow: 0px 1px 2px rgba(60, 64, 67, 0.3), 0px 1px 3px 1px rgba(60, 64, 67, 0.15);\n",
              "      fill: #174EA6;\n",
              "    }\n",
              "\n",
              "    [theme=dark] .colab-df-convert {\n",
              "      background-color: #3B4455;\n",
              "      fill: #D2E3FC;\n",
              "    }\n",
              "\n",
              "    [theme=dark] .colab-df-convert:hover {\n",
              "      background-color: #434B5C;\n",
              "      box-shadow: 0px 1px 3px 1px rgba(0, 0, 0, 0.15);\n",
              "      filter: drop-shadow(0px 1px 2px rgba(0, 0, 0, 0.3));\n",
              "      fill: #FFFFFF;\n",
              "    }\n",
              "  </style>\n",
              "\n",
              "      <script>\n",
              "        const buttonEl =\n",
              "          document.querySelector('#df-296e5a75-23d8-4d22-8ef1-95347d823831 button.colab-df-convert');\n",
              "        buttonEl.style.display =\n",
              "          google.colab.kernel.accessAllowed ? 'block' : 'none';\n",
              "\n",
              "        async function convertToInteractive(key) {\n",
              "          const element = document.querySelector('#df-296e5a75-23d8-4d22-8ef1-95347d823831');\n",
              "          const dataTable =\n",
              "            await google.colab.kernel.invokeFunction('convertToInteractive',\n",
              "                                                     [key], {});\n",
              "          if (!dataTable) return;\n",
              "\n",
              "          const docLinkHtml = 'Like what you see? Visit the ' +\n",
              "            '<a target=\"_blank\" href=https://colab.research.google.com/notebooks/data_table.ipynb>data table notebook</a>'\n",
              "            + ' to learn more about interactive tables.';\n",
              "          element.innerHTML = '';\n",
              "          dataTable['output_type'] = 'display_data';\n",
              "          await google.colab.output.renderOutput(dataTable, element);\n",
              "          const docLink = document.createElement('div');\n",
              "          docLink.innerHTML = docLinkHtml;\n",
              "          element.appendChild(docLink);\n",
              "        }\n",
              "      </script>\n",
              "    </div>\n",
              "  </div>\n",
              "  "
            ]
          },
          "metadata": {},
          "execution_count": 22
        }
      ]
    },
    {
      "cell_type": "code",
      "source": [
        "loan_df_final = loan_df_upsampled.fillna(0)"
      ],
      "metadata": {
        "id": "vJM5s6640Wjh"
      },
      "execution_count": 23,
      "outputs": []
    },
    {
      "cell_type": "code",
      "source": [
        "loan_df_final.isnull().sum()"
      ],
      "metadata": {
        "colab": {
          "base_uri": "https://localhost:8080/",
          "height": 0
        },
        "id": "Z4lNFYGg0wOX",
        "outputId": "01aaaa70-73b9-4b91-abc2-27cee4349941"
      },
      "execution_count": 24,
      "outputs": [
        {
          "output_type": "execute_result",
          "data": {
            "text/plain": [
              "SK_ID_CURR                    0\n",
              "TARGET                        0\n",
              "NAME_CONTRACT_TYPE            0\n",
              "CODE_GENDER                   0\n",
              "FLAG_OWN_CAR                  0\n",
              "                             ..\n",
              "AMT_REQ_CREDIT_BUREAU_DAY     0\n",
              "AMT_REQ_CREDIT_BUREAU_WEEK    0\n",
              "AMT_REQ_CREDIT_BUREAU_MON     0\n",
              "AMT_REQ_CREDIT_BUREAU_QRT     0\n",
              "AMT_REQ_CREDIT_BUREAU_YEAR    0\n",
              "Length: 122, dtype: int64"
            ]
          },
          "metadata": {},
          "execution_count": 24
        }
      ]
    },
    {
      "cell_type": "code",
      "source": [
        "X = loan_df_final.drop('TARGET',axis=1)\n",
        "y = loan_df_final['TARGET']"
      ],
      "metadata": {
        "id": "2_hEh9K33a92"
      },
      "execution_count": 25,
      "outputs": []
    },
    {
      "cell_type": "code",
      "source": [
        "X.drop('SK_ID_CURR',axis=1,inplace=True)\n",
        "X.head()"
      ],
      "metadata": {
        "colab": {
          "base_uri": "https://localhost:8080/",
          "height": 300
        },
        "id": "MeuLIZz4367c",
        "outputId": "b2f6220e-0ad0-43f7-b7c6-df640db816b7"
      },
      "execution_count": 26,
      "outputs": [
        {
          "output_type": "execute_result",
          "data": {
            "text/plain": [
              "        NAME_CONTRACT_TYPE  CODE_GENDER  FLAG_OWN_CAR  FLAG_OWN_REALTY  \\\n",
              "161622                   0            1             0                1   \n",
              "220908                   0            1             1                1   \n",
              "218605                   0            0             1                1   \n",
              "98841                    1            0             0                1   \n",
              "70978                    0            0             0                1   \n",
              "\n",
              "        CNT_CHILDREN  AMT_INCOME_TOTAL  AMT_CREDIT  AMT_ANNUITY  \\\n",
              "161622             2          202500.0    888840.0      37494.0   \n",
              "220908             2          315000.0    712858.5      30330.0   \n",
              "218605             0          225000.0    757597.5      40491.0   \n",
              "98841              0           90000.0    202500.0      10125.0   \n",
              "70978              0          146250.0    553806.0      30172.5   \n",
              "\n",
              "        AMT_GOODS_PRICE  NAME_TYPE_SUITE  ...  FLAG_DOCUMENT_18  \\\n",
              "161622         675000.0                6  ...                 0   \n",
              "220908         576000.0                6  ...                 0   \n",
              "218605         702000.0                6  ...                 0   \n",
              "98841          202500.0                6  ...                 0   \n",
              "70978          495000.0                6  ...                 0   \n",
              "\n",
              "        FLAG_DOCUMENT_19  FLAG_DOCUMENT_20  FLAG_DOCUMENT_21  \\\n",
              "161622                 0                 0                 0   \n",
              "220908                 0                 0                 0   \n",
              "218605                 0                 0                 0   \n",
              "98841                  0                 0                 0   \n",
              "70978                  0                 0                 0   \n",
              "\n",
              "        AMT_REQ_CREDIT_BUREAU_HOUR  AMT_REQ_CREDIT_BUREAU_DAY  \\\n",
              "161622                         0.0                        0.0   \n",
              "220908                         0.0                        0.0   \n",
              "218605                         1.0                        0.0   \n",
              "98841                          0.0                        0.0   \n",
              "70978                          0.0                        0.0   \n",
              "\n",
              "        AMT_REQ_CREDIT_BUREAU_WEEK  AMT_REQ_CREDIT_BUREAU_MON  \\\n",
              "161622                         0.0                        0.0   \n",
              "220908                         0.0                        0.0   \n",
              "218605                         0.0                        1.0   \n",
              "98841                          0.0                        0.0   \n",
              "70978                          0.0                        0.0   \n",
              "\n",
              "        AMT_REQ_CREDIT_BUREAU_QRT  AMT_REQ_CREDIT_BUREAU_YEAR  \n",
              "161622                        0.0                         2.0  \n",
              "220908                        0.0                         1.0  \n",
              "218605                        0.0                         5.0  \n",
              "98841                         0.0                         2.0  \n",
              "70978                         0.0                         3.0  \n",
              "\n",
              "[5 rows x 120 columns]"
            ],
            "text/html": [
              "\n",
              "  <div id=\"df-1b1a831c-6912-493d-928c-36fd85377546\">\n",
              "    <div class=\"colab-df-container\">\n",
              "      <div>\n",
              "<style scoped>\n",
              "    .dataframe tbody tr th:only-of-type {\n",
              "        vertical-align: middle;\n",
              "    }\n",
              "\n",
              "    .dataframe tbody tr th {\n",
              "        vertical-align: top;\n",
              "    }\n",
              "\n",
              "    .dataframe thead th {\n",
              "        text-align: right;\n",
              "    }\n",
              "</style>\n",
              "<table border=\"1\" class=\"dataframe\">\n",
              "  <thead>\n",
              "    <tr style=\"text-align: right;\">\n",
              "      <th></th>\n",
              "      <th>NAME_CONTRACT_TYPE</th>\n",
              "      <th>CODE_GENDER</th>\n",
              "      <th>FLAG_OWN_CAR</th>\n",
              "      <th>FLAG_OWN_REALTY</th>\n",
              "      <th>CNT_CHILDREN</th>\n",
              "      <th>AMT_INCOME_TOTAL</th>\n",
              "      <th>AMT_CREDIT</th>\n",
              "      <th>AMT_ANNUITY</th>\n",
              "      <th>AMT_GOODS_PRICE</th>\n",
              "      <th>NAME_TYPE_SUITE</th>\n",
              "      <th>...</th>\n",
              "      <th>FLAG_DOCUMENT_18</th>\n",
              "      <th>FLAG_DOCUMENT_19</th>\n",
              "      <th>FLAG_DOCUMENT_20</th>\n",
              "      <th>FLAG_DOCUMENT_21</th>\n",
              "      <th>AMT_REQ_CREDIT_BUREAU_HOUR</th>\n",
              "      <th>AMT_REQ_CREDIT_BUREAU_DAY</th>\n",
              "      <th>AMT_REQ_CREDIT_BUREAU_WEEK</th>\n",
              "      <th>AMT_REQ_CREDIT_BUREAU_MON</th>\n",
              "      <th>AMT_REQ_CREDIT_BUREAU_QRT</th>\n",
              "      <th>AMT_REQ_CREDIT_BUREAU_YEAR</th>\n",
              "    </tr>\n",
              "  </thead>\n",
              "  <tbody>\n",
              "    <tr>\n",
              "      <th>161622</th>\n",
              "      <td>0</td>\n",
              "      <td>1</td>\n",
              "      <td>0</td>\n",
              "      <td>1</td>\n",
              "      <td>2</td>\n",
              "      <td>202500.0</td>\n",
              "      <td>888840.0</td>\n",
              "      <td>37494.0</td>\n",
              "      <td>675000.0</td>\n",
              "      <td>6</td>\n",
              "      <td>...</td>\n",
              "      <td>0</td>\n",
              "      <td>0</td>\n",
              "      <td>0</td>\n",
              "      <td>0</td>\n",
              "      <td>0.0</td>\n",
              "      <td>0.0</td>\n",
              "      <td>0.0</td>\n",
              "      <td>0.0</td>\n",
              "      <td>0.0</td>\n",
              "      <td>2.0</td>\n",
              "    </tr>\n",
              "    <tr>\n",
              "      <th>220908</th>\n",
              "      <td>0</td>\n",
              "      <td>1</td>\n",
              "      <td>1</td>\n",
              "      <td>1</td>\n",
              "      <td>2</td>\n",
              "      <td>315000.0</td>\n",
              "      <td>712858.5</td>\n",
              "      <td>30330.0</td>\n",
              "      <td>576000.0</td>\n",
              "      <td>6</td>\n",
              "      <td>...</td>\n",
              "      <td>0</td>\n",
              "      <td>0</td>\n",
              "      <td>0</td>\n",
              "      <td>0</td>\n",
              "      <td>0.0</td>\n",
              "      <td>0.0</td>\n",
              "      <td>0.0</td>\n",
              "      <td>0.0</td>\n",
              "      <td>0.0</td>\n",
              "      <td>1.0</td>\n",
              "    </tr>\n",
              "    <tr>\n",
              "      <th>218605</th>\n",
              "      <td>0</td>\n",
              "      <td>0</td>\n",
              "      <td>1</td>\n",
              "      <td>1</td>\n",
              "      <td>0</td>\n",
              "      <td>225000.0</td>\n",
              "      <td>757597.5</td>\n",
              "      <td>40491.0</td>\n",
              "      <td>702000.0</td>\n",
              "      <td>6</td>\n",
              "      <td>...</td>\n",
              "      <td>0</td>\n",
              "      <td>0</td>\n",
              "      <td>0</td>\n",
              "      <td>0</td>\n",
              "      <td>1.0</td>\n",
              "      <td>0.0</td>\n",
              "      <td>0.0</td>\n",
              "      <td>1.0</td>\n",
              "      <td>0.0</td>\n",
              "      <td>5.0</td>\n",
              "    </tr>\n",
              "    <tr>\n",
              "      <th>98841</th>\n",
              "      <td>1</td>\n",
              "      <td>0</td>\n",
              "      <td>0</td>\n",
              "      <td>1</td>\n",
              "      <td>0</td>\n",
              "      <td>90000.0</td>\n",
              "      <td>202500.0</td>\n",
              "      <td>10125.0</td>\n",
              "      <td>202500.0</td>\n",
              "      <td>6</td>\n",
              "      <td>...</td>\n",
              "      <td>0</td>\n",
              "      <td>0</td>\n",
              "      <td>0</td>\n",
              "      <td>0</td>\n",
              "      <td>0.0</td>\n",
              "      <td>0.0</td>\n",
              "      <td>0.0</td>\n",
              "      <td>0.0</td>\n",
              "      <td>0.0</td>\n",
              "      <td>2.0</td>\n",
              "    </tr>\n",
              "    <tr>\n",
              "      <th>70978</th>\n",
              "      <td>0</td>\n",
              "      <td>0</td>\n",
              "      <td>0</td>\n",
              "      <td>1</td>\n",
              "      <td>0</td>\n",
              "      <td>146250.0</td>\n",
              "      <td>553806.0</td>\n",
              "      <td>30172.5</td>\n",
              "      <td>495000.0</td>\n",
              "      <td>6</td>\n",
              "      <td>...</td>\n",
              "      <td>0</td>\n",
              "      <td>0</td>\n",
              "      <td>0</td>\n",
              "      <td>0</td>\n",
              "      <td>0.0</td>\n",
              "      <td>0.0</td>\n",
              "      <td>0.0</td>\n",
              "      <td>0.0</td>\n",
              "      <td>0.0</td>\n",
              "      <td>3.0</td>\n",
              "    </tr>\n",
              "  </tbody>\n",
              "</table>\n",
              "<p>5 rows × 120 columns</p>\n",
              "</div>\n",
              "      <button class=\"colab-df-convert\" onclick=\"convertToInteractive('df-1b1a831c-6912-493d-928c-36fd85377546')\"\n",
              "              title=\"Convert this dataframe to an interactive table.\"\n",
              "              style=\"display:none;\">\n",
              "        \n",
              "  <svg xmlns=\"http://www.w3.org/2000/svg\" height=\"24px\"viewBox=\"0 0 24 24\"\n",
              "       width=\"24px\">\n",
              "    <path d=\"M0 0h24v24H0V0z\" fill=\"none\"/>\n",
              "    <path d=\"M18.56 5.44l.94 2.06.94-2.06 2.06-.94-2.06-.94-.94-2.06-.94 2.06-2.06.94zm-11 1L8.5 8.5l.94-2.06 2.06-.94-2.06-.94L8.5 2.5l-.94 2.06-2.06.94zm10 10l.94 2.06.94-2.06 2.06-.94-2.06-.94-.94-2.06-.94 2.06-2.06.94z\"/><path d=\"M17.41 7.96l-1.37-1.37c-.4-.4-.92-.59-1.43-.59-.52 0-1.04.2-1.43.59L10.3 9.45l-7.72 7.72c-.78.78-.78 2.05 0 2.83L4 21.41c.39.39.9.59 1.41.59.51 0 1.02-.2 1.41-.59l7.78-7.78 2.81-2.81c.8-.78.8-2.07 0-2.86zM5.41 20L4 18.59l7.72-7.72 1.47 1.35L5.41 20z\"/>\n",
              "  </svg>\n",
              "      </button>\n",
              "      \n",
              "  <style>\n",
              "    .colab-df-container {\n",
              "      display:flex;\n",
              "      flex-wrap:wrap;\n",
              "      gap: 12px;\n",
              "    }\n",
              "\n",
              "    .colab-df-convert {\n",
              "      background-color: #E8F0FE;\n",
              "      border: none;\n",
              "      border-radius: 50%;\n",
              "      cursor: pointer;\n",
              "      display: none;\n",
              "      fill: #1967D2;\n",
              "      height: 32px;\n",
              "      padding: 0 0 0 0;\n",
              "      width: 32px;\n",
              "    }\n",
              "\n",
              "    .colab-df-convert:hover {\n",
              "      background-color: #E2EBFA;\n",
              "      box-shadow: 0px 1px 2px rgba(60, 64, 67, 0.3), 0px 1px 3px 1px rgba(60, 64, 67, 0.15);\n",
              "      fill: #174EA6;\n",
              "    }\n",
              "\n",
              "    [theme=dark] .colab-df-convert {\n",
              "      background-color: #3B4455;\n",
              "      fill: #D2E3FC;\n",
              "    }\n",
              "\n",
              "    [theme=dark] .colab-df-convert:hover {\n",
              "      background-color: #434B5C;\n",
              "      box-shadow: 0px 1px 3px 1px rgba(0, 0, 0, 0.15);\n",
              "      filter: drop-shadow(0px 1px 2px rgba(0, 0, 0, 0.3));\n",
              "      fill: #FFFFFF;\n",
              "    }\n",
              "  </style>\n",
              "\n",
              "      <script>\n",
              "        const buttonEl =\n",
              "          document.querySelector('#df-1b1a831c-6912-493d-928c-36fd85377546 button.colab-df-convert');\n",
              "        buttonEl.style.display =\n",
              "          google.colab.kernel.accessAllowed ? 'block' : 'none';\n",
              "\n",
              "        async function convertToInteractive(key) {\n",
              "          const element = document.querySelector('#df-1b1a831c-6912-493d-928c-36fd85377546');\n",
              "          const dataTable =\n",
              "            await google.colab.kernel.invokeFunction('convertToInteractive',\n",
              "                                                     [key], {});\n",
              "          if (!dataTable) return;\n",
              "\n",
              "          const docLinkHtml = 'Like what you see? Visit the ' +\n",
              "            '<a target=\"_blank\" href=https://colab.research.google.com/notebooks/data_table.ipynb>data table notebook</a>'\n",
              "            + ' to learn more about interactive tables.';\n",
              "          element.innerHTML = '';\n",
              "          dataTable['output_type'] = 'display_data';\n",
              "          await google.colab.output.renderOutput(dataTable, element);\n",
              "          const docLink = document.createElement('div');\n",
              "          docLink.innerHTML = docLinkHtml;\n",
              "          element.appendChild(docLink);\n",
              "        }\n",
              "      </script>\n",
              "    </div>\n",
              "  </div>\n",
              "  "
            ]
          },
          "metadata": {},
          "execution_count": 26
        }
      ]
    },
    {
      "cell_type": "code",
      "source": [
        "from sklearn.model_selection import train_test_split\n",
        "X_train,X_test,y_train,y_test = train_test_split(X,y,\n",
        "                                                 random_state=101,\n",
        "                                                 test_size = 0.25)"
      ],
      "metadata": {
        "id": "5hDLQTIB4mw-"
      },
      "execution_count": 27,
      "outputs": []
    },
    {
      "cell_type": "code",
      "source": [
        "X_train.shape,X_test.shape"
      ],
      "metadata": {
        "colab": {
          "base_uri": "https://localhost:8080/",
          "height": 0
        },
        "id": "qHxqFuyp48fT",
        "outputId": "4e502615-aa7e-42c7-ae8f-7d8a8c0abb84"
      },
      "execution_count": 28,
      "outputs": [
        {
          "output_type": "execute_result",
          "data": {
            "text/plain": [
              "((424029, 120), (141343, 120))"
            ]
          },
          "metadata": {},
          "execution_count": 28
        }
      ]
    },
    {
      "cell_type": "code",
      "source": [
        "y_train.shape,y_test.shape"
      ],
      "metadata": {
        "colab": {
          "base_uri": "https://localhost:8080/",
          "height": 0
        },
        "id": "8SjLaVmM5Cbb",
        "outputId": "32d1fcab-44cf-4c0e-c6f6-096e15bf1d64"
      },
      "execution_count": 29,
      "outputs": [
        {
          "output_type": "execute_result",
          "data": {
            "text/plain": [
              "((424029,), (141343,))"
            ]
          },
          "metadata": {},
          "execution_count": 29
        }
      ]
    },
    {
      "cell_type": "markdown",
      "source": [
        "Applying Scaling on the data"
      ],
      "metadata": {
        "id": "-KVKPJap3KKb"
      }
    },
    {
      "cell_type": "code",
      "source": [
        "from sklearn.preprocessing import StandardScaler\n",
        "scaler = StandardScaler()\n",
        "X_train_scaled = scaler.fit_transform(X_train)\n",
        "X_test_scaled = scaler.transform(X_test)"
      ],
      "metadata": {
        "id": "i_9VWZgJ3JDv"
      },
      "execution_count": 47,
      "outputs": []
    },
    {
      "cell_type": "code",
      "source": [
        "X_train_arr = np.asarray(X_train_scaled).astype(np.float32)\n",
        "y_train_arr = np.asarray(y_train).astype(np.int)\n",
        "X_test_arr = np.asarray(X_test_scaled).astype(np.float32)\n",
        "y_test_arr = np.asarray(y_test).astype(np.int)"
      ],
      "metadata": {
        "colab": {
          "base_uri": "https://localhost:8080/",
          "height": 0
        },
        "id": "5IFrKv_L_mAq",
        "outputId": "d3faad32-4df1-46e8-8f81-6fb27b01e3af"
      },
      "execution_count": 48,
      "outputs": [
        {
          "output_type": "stream",
          "name": "stderr",
          "text": [
            "/usr/local/lib/python3.7/dist-packages/ipykernel_launcher.py:2: DeprecationWarning: `np.int` is a deprecated alias for the builtin `int`. To silence this warning, use `int` by itself. Doing this will not modify any behavior and is safe. When replacing `np.int`, you may wish to use e.g. `np.int64` or `np.int32` to specify the precision. If you wish to review your current use, check the release note link for additional information.\n",
            "Deprecated in NumPy 1.20; for more details and guidance: https://numpy.org/devdocs/release/1.20.0-notes.html#deprecations\n",
            "  \n",
            "/usr/local/lib/python3.7/dist-packages/ipykernel_launcher.py:4: DeprecationWarning: `np.int` is a deprecated alias for the builtin `int`. To silence this warning, use `int` by itself. Doing this will not modify any behavior and is safe. When replacing `np.int`, you may wish to use e.g. `np.int64` or `np.int32` to specify the precision. If you wish to review your current use, check the release note link for additional information.\n",
            "Deprecated in NumPy 1.20; for more details and guidance: https://numpy.org/devdocs/release/1.20.0-notes.html#deprecations\n",
            "  after removing the cwd from sys.path.\n"
          ]
        }
      ]
    },
    {
      "cell_type": "markdown",
      "source": [
        "**Building a Neural network model for Binary classification.**\n",
        "\n",
        "1.Calculate Sensitivity as a metrice\n",
        "\n",
        "2.Calculate area under receiver operating characteristics\n",
        "(ROC) curve"
      ],
      "metadata": {
        "id": "QRlNZZc31eJU"
      }
    },
    {
      "cell_type": "code",
      "source": [
        "from tensorflow.keras.models import Sequential\n",
        "from tensorflow.keras.layers import Dense,Conv2D,Dropout,Input"
      ],
      "metadata": {
        "id": "jeoXjI2R04VU"
      },
      "execution_count": 32,
      "outputs": []
    },
    {
      "cell_type": "code",
      "source": [
        "model = Sequential()\n",
        "model.add(Input(shape=(120,)))\n",
        "model.add(Dense(240,activation='relu'))\n",
        "model.add(Dense(480,activation='relu'))\n",
        "model.add(Dropout(0.4))\n",
        "model.add(Dense(480,activation='relu'))\n",
        "model.add(Dense(240,activation='relu'))\n",
        "model.add(Dense(1,activation='sigmoid'))\n",
        "model.compile(optimizer='adam', loss='binary_crossentropy', metrics=[tf.keras.metrics.Recall()])"
      ],
      "metadata": {
        "id": "ned3ceNb12e8"
      },
      "execution_count": 61,
      "outputs": []
    },
    {
      "cell_type": "code",
      "source": [
        "model.summary()"
      ],
      "metadata": {
        "colab": {
          "base_uri": "https://localhost:8080/",
          "height": 0
        },
        "id": "8I4PXkUx9OMX",
        "outputId": "187c1edd-e147-4954-987b-c69c0ffa7d4d"
      },
      "execution_count": 62,
      "outputs": [
        {
          "output_type": "stream",
          "name": "stdout",
          "text": [
            "Model: \"sequential_1\"\n",
            "_________________________________________________________________\n",
            " Layer (type)                Output Shape              Param #   \n",
            "=================================================================\n",
            " dense_5 (Dense)             (None, 240)               29040     \n",
            "                                                                 \n",
            " dense_6 (Dense)             (None, 480)               115680    \n",
            "                                                                 \n",
            " dropout_1 (Dropout)         (None, 480)               0         \n",
            "                                                                 \n",
            " dense_7 (Dense)             (None, 480)               230880    \n",
            "                                                                 \n",
            " dense_8 (Dense)             (None, 240)               115440    \n",
            "                                                                 \n",
            " dense_9 (Dense)             (None, 1)                 241       \n",
            "                                                                 \n",
            "=================================================================\n",
            "Total params: 491,281\n",
            "Trainable params: 491,281\n",
            "Non-trainable params: 0\n",
            "_________________________________________________________________\n"
          ]
        }
      ]
    },
    {
      "cell_type": "code",
      "source": [
        "es = tf.keras.callbacks.EarlyStopping(monitor='val_loss', mode='min', \n",
        "                                      verbose=1, patience=20,\n",
        "                                      min_delta=0.01)\n",
        "\n",
        "training_history = model.fit(X_train_arr,y_train_arr,epochs =50,\n",
        "                             validation_data=(X_test_arr,y_test_arr),\n",
        "                             callbacks=[es])"
      ],
      "metadata": {
        "colab": {
          "base_uri": "https://localhost:8080/",
          "height": 0
        },
        "id": "HPFaJKPJYjoT",
        "outputId": "0323c08e-efe9-4af3-dcf1-8ab5b9763542"
      },
      "execution_count": 63,
      "outputs": [
        {
          "output_type": "stream",
          "name": "stdout",
          "text": [
            "Epoch 1/50\n",
            "13251/13251 [==============================] - 72s 5ms/step - loss: 0.6056 - recall_1: 0.6823 - val_loss: 0.5908 - val_recall_1: 0.6866\n",
            "Epoch 2/50\n",
            "13251/13251 [==============================] - 68s 5ms/step - loss: 0.5773 - recall_1: 0.7274 - val_loss: 0.5607 - val_recall_1: 0.7569\n",
            "Epoch 3/50\n",
            "13251/13251 [==============================] - 79s 6ms/step - loss: 0.5460 - recall_1: 0.7767 - val_loss: 0.5309 - val_recall_1: 0.7975\n",
            "Epoch 4/50\n",
            "13251/13251 [==============================] - 58s 4ms/step - loss: 0.5140 - recall_1: 0.8157 - val_loss: 0.4951 - val_recall_1: 0.8376\n",
            "Epoch 5/50\n",
            "13251/13251 [==============================] - 57s 4ms/step - loss: 0.4844 - recall_1: 0.8413 - val_loss: 0.4682 - val_recall_1: 0.8841\n",
            "Epoch 6/50\n",
            "13251/13251 [==============================] - 61s 5ms/step - loss: 0.4589 - recall_1: 0.8589 - val_loss: 0.4361 - val_recall_1: 0.8707\n",
            "Epoch 7/50\n",
            "13251/13251 [==============================] - 57s 4ms/step - loss: 0.4365 - recall_1: 0.8714 - val_loss: 0.4194 - val_recall_1: 0.9133\n",
            "Epoch 8/50\n",
            "13251/13251 [==============================] - 61s 5ms/step - loss: 0.4191 - recall_1: 0.8820 - val_loss: 0.3955 - val_recall_1: 0.8857\n",
            "Epoch 9/50\n",
            "13251/13251 [==============================] - 60s 5ms/step - loss: 0.4020 - recall_1: 0.8897 - val_loss: 0.3894 - val_recall_1: 0.9312\n",
            "Epoch 10/50\n",
            "13251/13251 [==============================] - 59s 4ms/step - loss: 0.3871 - recall_1: 0.8967 - val_loss: 0.3720 - val_recall_1: 0.9218\n",
            "Epoch 11/50\n",
            "13251/13251 [==============================] - 60s 5ms/step - loss: 0.3754 - recall_1: 0.9033 - val_loss: 0.3596 - val_recall_1: 0.9168\n",
            "Epoch 12/50\n",
            "13251/13251 [==============================] - 58s 4ms/step - loss: 0.3642 - recall_1: 0.9065 - val_loss: 0.3418 - val_recall_1: 0.9376\n",
            "Epoch 13/50\n",
            "13251/13251 [==============================] - 60s 5ms/step - loss: 0.3535 - recall_1: 0.9105 - val_loss: 0.3319 - val_recall_1: 0.9479\n",
            "Epoch 14/50\n",
            "13251/13251 [==============================] - 58s 4ms/step - loss: 0.3445 - recall_1: 0.9131 - val_loss: 0.3258 - val_recall_1: 0.9395\n",
            "Epoch 15/50\n",
            "13251/13251 [==============================] - 59s 4ms/step - loss: 0.3351 - recall_1: 0.9167 - val_loss: 0.3201 - val_recall_1: 0.9295\n",
            "Epoch 16/50\n",
            "13251/13251 [==============================] - 58s 4ms/step - loss: 0.3281 - recall_1: 0.9190 - val_loss: 0.3087 - val_recall_1: 0.9495\n",
            "Epoch 17/50\n",
            "13251/13251 [==============================] - 58s 4ms/step - loss: 0.3218 - recall_1: 0.9225 - val_loss: 0.3042 - val_recall_1: 0.9570\n",
            "Epoch 18/50\n",
            "13251/13251 [==============================] - 59s 4ms/step - loss: 0.3148 - recall_1: 0.9233 - val_loss: 0.2957 - val_recall_1: 0.9530\n",
            "Epoch 19/50\n",
            "13251/13251 [==============================] - 58s 4ms/step - loss: 0.3096 - recall_1: 0.9263 - val_loss: 0.2978 - val_recall_1: 0.9401\n",
            "Epoch 20/50\n",
            "13251/13251 [==============================] - 58s 4ms/step - loss: 0.3034 - recall_1: 0.9270 - val_loss: 0.2842 - val_recall_1: 0.9477\n",
            "Epoch 21/50\n",
            "13251/13251 [==============================] - 59s 4ms/step - loss: 0.2985 - recall_1: 0.9291 - val_loss: 0.2764 - val_recall_1: 0.9541\n",
            "Epoch 22/50\n",
            "13251/13251 [==============================] - 70s 5ms/step - loss: 0.2936 - recall_1: 0.9297 - val_loss: 0.2799 - val_recall_1: 0.9636\n",
            "Epoch 23/50\n",
            "13251/13251 [==============================] - 58s 4ms/step - loss: 0.2886 - recall_1: 0.9321 - val_loss: 0.2689 - val_recall_1: 0.9633\n",
            "Epoch 24/50\n",
            "13251/13251 [==============================] - 59s 4ms/step - loss: 0.2855 - recall_1: 0.9322 - val_loss: 0.2789 - val_recall_1: 0.9704\n",
            "Epoch 25/50\n",
            "13251/13251 [==============================] - 58s 4ms/step - loss: 0.2807 - recall_1: 0.9335 - val_loss: 0.2619 - val_recall_1: 0.9518\n",
            "Epoch 26/50\n",
            "13251/13251 [==============================] - 59s 4ms/step - loss: 0.2778 - recall_1: 0.9342 - val_loss: 0.2658 - val_recall_1: 0.9760\n",
            "Epoch 27/50\n",
            "13251/13251 [==============================] - 59s 4ms/step - loss: 0.2738 - recall_1: 0.9358 - val_loss: 0.2531 - val_recall_1: 0.9727\n",
            "Epoch 28/50\n",
            "13251/13251 [==============================] - 57s 4ms/step - loss: 0.2710 - recall_1: 0.9362 - val_loss: 0.2466 - val_recall_1: 0.9552\n",
            "Epoch 29/50\n",
            "13251/13251 [==============================] - 57s 4ms/step - loss: 0.2670 - recall_1: 0.9369 - val_loss: 0.2430 - val_recall_1: 0.9599\n",
            "Epoch 30/50\n",
            "13251/13251 [==============================] - 57s 4ms/step - loss: 0.2648 - recall_1: 0.9384 - val_loss: 0.2504 - val_recall_1: 0.9697\n",
            "Epoch 31/50\n",
            "13251/13251 [==============================] - 60s 5ms/step - loss: 0.2603 - recall_1: 0.9394 - val_loss: 0.2502 - val_recall_1: 0.9595\n",
            "Epoch 32/50\n",
            "13251/13251 [==============================] - 64s 5ms/step - loss: 0.2591 - recall_1: 0.9396 - val_loss: 0.2439 - val_recall_1: 0.9555\n",
            "Epoch 33/50\n",
            "13251/13251 [==============================] - 63s 5ms/step - loss: 0.2563 - recall_1: 0.9396 - val_loss: 0.2392 - val_recall_1: 0.9803\n",
            "Epoch 34/50\n",
            "13251/13251 [==============================] - 63s 5ms/step - loss: 0.2521 - recall_1: 0.9428 - val_loss: 0.2419 - val_recall_1: 0.9605\n",
            "Epoch 35/50\n",
            "13251/13251 [==============================] - 62s 5ms/step - loss: 0.2508 - recall_1: 0.9426 - val_loss: 0.2324 - val_recall_1: 0.9505\n",
            "Epoch 36/50\n",
            "13251/13251 [==============================] - 63s 5ms/step - loss: 0.2486 - recall_1: 0.9445 - val_loss: 0.2336 - val_recall_1: 0.9743\n",
            "Epoch 37/50\n",
            "13251/13251 [==============================] - 68s 5ms/step - loss: 0.2466 - recall_1: 0.9437 - val_loss: 0.2286 - val_recall_1: 0.9622\n",
            "Epoch 38/50\n",
            "13251/13251 [==============================] - 63s 5ms/step - loss: 0.2441 - recall_1: 0.9438 - val_loss: 0.2240 - val_recall_1: 0.9591\n",
            "Epoch 39/50\n",
            "13251/13251 [==============================] - 63s 5ms/step - loss: 0.2422 - recall_1: 0.9455 - val_loss: 0.2232 - val_recall_1: 0.9550\n",
            "Epoch 40/50\n",
            "13251/13251 [==============================] - 73s 6ms/step - loss: 0.2386 - recall_1: 0.9461 - val_loss: 0.2282 - val_recall_1: 0.9754\n",
            "Epoch 41/50\n",
            "13251/13251 [==============================] - 65s 5ms/step - loss: 0.2363 - recall_1: 0.9467 - val_loss: 0.2162 - val_recall_1: 0.9676\n",
            "Epoch 42/50\n",
            "13251/13251 [==============================] - 66s 5ms/step - loss: 0.2363 - recall_1: 0.9465 - val_loss: 0.2184 - val_recall_1: 0.9771\n",
            "Epoch 43/50\n",
            "13251/13251 [==============================] - 66s 5ms/step - loss: 0.2332 - recall_1: 0.9469 - val_loss: 0.2195 - val_recall_1: 0.9708\n",
            "Epoch 44/50\n",
            "13251/13251 [==============================] - 67s 5ms/step - loss: 0.2324 - recall_1: 0.9471 - val_loss: 0.2110 - val_recall_1: 0.9699\n",
            "Epoch 45/50\n",
            "13251/13251 [==============================] - 76s 6ms/step - loss: 0.2308 - recall_1: 0.9481 - val_loss: 0.2232 - val_recall_1: 0.9676\n",
            "Epoch 46/50\n",
            "13251/13251 [==============================] - 67s 5ms/step - loss: 0.2309 - recall_1: 0.9488 - val_loss: 0.2204 - val_recall_1: 0.9809\n",
            "Epoch 47/50\n",
            "13251/13251 [==============================] - 67s 5ms/step - loss: 0.2272 - recall_1: 0.9491 - val_loss: 0.2106 - val_recall_1: 0.9670\n",
            "Epoch 48/50\n",
            "13251/13251 [==============================] - 66s 5ms/step - loss: 0.2239 - recall_1: 0.9496 - val_loss: 0.2260 - val_recall_1: 0.9831\n",
            "Epoch 49/50\n",
            "13251/13251 [==============================] - 85s 6ms/step - loss: 0.2255 - recall_1: 0.9494 - val_loss: 0.2072 - val_recall_1: 0.9720\n",
            "Epoch 50/50\n",
            "13251/13251 [==============================] - 78s 6ms/step - loss: 0.2216 - recall_1: 0.9506 - val_loss: 0.2014 - val_recall_1: 0.9736\n"
          ]
        }
      ]
    },
    {
      "cell_type": "code",
      "source": [
        "import matplotlib.pyplot as plt\n",
        "plt.plot(training_history.history['loss'],label = ['Training_loss'])\n",
        "plt.plot(training_history.history['val_loss'],label = ['Validation_loss'])\n",
        "\n",
        "plt.plot(training_history.history['recall_1'],label = ['Train_Sensitivity'])\n",
        "plt.plot(training_history.history['val_recall_1'],label = ['Validation_Sensitivity'])\n",
        "\n",
        "plt.legend()\n",
        "plt.show()"
      ],
      "metadata": {
        "colab": {
          "base_uri": "https://localhost:8080/",
          "height": 265
        },
        "id": "NL-F5GZIIac0",
        "outputId": "3267b920-943b-483f-854e-b059b2d32ffb"
      },
      "execution_count": 69,
      "outputs": [
        {
          "output_type": "display_data",
          "data": {
            "text/plain": [
              "<Figure size 432x288 with 1 Axes>"
            ],
            "image/png": "[encoded data removed]"
          },
          "metadata": {
            "needs_background": "light"
          }
        }
      ]
    },
    {
      "cell_type": "code",
      "source": [
        "#plotting area ROC(Reciever Pperating Characteristics) curve\n",
        "\n",
        "from sklearn.metrics import roc_curve\n",
        "y_pred = model.predict(X_test_scaled).ravel()\n",
        "FPR, TPR, threshold = roc_curve(y_test, y_pred)\n",
        "\n",
        "from sklearn.metrics import auc\n",
        "area_under_curve = auc(FPR, TPR)\n",
        "plt.figure(figsize=(12,8))\n",
        "plt.plot([0, 1], [0, 1], 'k--')\n",
        "plt.plot(FPR, TPR, label='Keras (area = {:.3f})'.format(area_under_curve))\n",
        "# plt.plot(fpr_rf, tpr_rf, label='RF (area = {:.3f})'.format(auc_rf))\n",
        "plt.xlabel('False positive rate')\n",
        "plt.ylabel('True positive rate')\n",
        "plt.title('ROC curve')\n",
        "plt.legend(loc='best')\n",
        "plt.show()\n"
      ],
      "metadata": {
        "colab": {
          "base_uri": "https://localhost:8080/",
          "height": 513
        },
        "id": "m_L1hOr8J4sa",
        "outputId": "50b96ce5-f74b-4a72-fb0b-681848b8be70"
      },
      "execution_count": 70,
      "outputs": [
        {
          "output_type": "display_data",
          "data": {
            "text/plain": [
              "<Figure size 864x576 with 1 Axes>"
            ],
            "image/png": "[encoded data removed]"
          },
          "metadata": {
            "needs_background": "light"
          }
        }
      ]
    }
  ],
  "metadata": {
    "kernelspec": {
      "display_name": "Python 3",
      "language": "python",
      "name": "python3"
    },
    "language_info": {
      "codemirror_mode": {
        "name": "ipython",
        "version": 3
      },
      "file_extension": ".py",
      "mimetype": "text/x-python",
      "name": "python",
      "nbconvert_exporter": "python",
      "pygments_lexer": "ipython3",
      "version": "3.7.6"
    },
    "colab": {
      "name": "Deep_learning_model- HouseLoanDataAnalysis.ipynb",
      "provenance": [],
      "collapsed_sections": [],
      "include_colab_link": true
    },
    "accelerator": "GPU",
    "gpuClass": "standard"
  },
  "nbformat": 4,
  "nbformat_minor": 0
}